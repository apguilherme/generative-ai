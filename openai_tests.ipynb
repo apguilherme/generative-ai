{
 "cells": [
  {
   "cell_type": "code",
   "execution_count": 1,
   "metadata": {},
   "outputs": [
    {
     "name": "stdout",
     "output_type": "stream",
     "text": [
      "Requirement already satisfied: openai in /Library/Frameworks/Python.framework/Versions/3.9/lib/python3.9/site-packages (0.27.10)\n",
      "Requirement already satisfied: tqdm in /Library/Frameworks/Python.framework/Versions/3.9/lib/python3.9/site-packages (from openai) (4.65.0)\n",
      "Requirement already satisfied: requests>=2.20 in /Library/Frameworks/Python.framework/Versions/3.9/lib/python3.9/site-packages (from openai) (2.31.0)\n",
      "Requirement already satisfied: aiohttp in /Library/Frameworks/Python.framework/Versions/3.9/lib/python3.9/site-packages (from openai) (3.8.5)\n",
      "Requirement already satisfied: certifi>=2017.4.17 in /Library/Frameworks/Python.framework/Versions/3.9/lib/python3.9/site-packages (from requests>=2.20->openai) (2023.7.22)\n",
      "Requirement already satisfied: idna<4,>=2.5 in /Library/Frameworks/Python.framework/Versions/3.9/lib/python3.9/site-packages (from requests>=2.20->openai) (3.4)\n",
      "Requirement already satisfied: urllib3<3,>=1.21.1 in /Library/Frameworks/Python.framework/Versions/3.9/lib/python3.9/site-packages (from requests>=2.20->openai) (1.26.16)\n",
      "Requirement already satisfied: charset-normalizer<4,>=2 in /Library/Frameworks/Python.framework/Versions/3.9/lib/python3.9/site-packages (from requests>=2.20->openai) (3.2.0)\n",
      "Requirement already satisfied: yarl<2.0,>=1.0 in /Library/Frameworks/Python.framework/Versions/3.9/lib/python3.9/site-packages (from aiohttp->openai) (1.9.2)\n",
      "Requirement already satisfied: frozenlist>=1.1.1 in /Library/Frameworks/Python.framework/Versions/3.9/lib/python3.9/site-packages (from aiohttp->openai) (1.4.0)\n",
      "Requirement already satisfied: aiosignal>=1.1.2 in /Library/Frameworks/Python.framework/Versions/3.9/lib/python3.9/site-packages (from aiohttp->openai) (1.3.1)\n",
      "Requirement already satisfied: async-timeout<5.0,>=4.0.0a3 in /Library/Frameworks/Python.framework/Versions/3.9/lib/python3.9/site-packages (from aiohttp->openai) (4.0.3)\n",
      "Requirement already satisfied: attrs>=17.3.0 in /Library/Frameworks/Python.framework/Versions/3.9/lib/python3.9/site-packages (from aiohttp->openai) (23.1.0)\n",
      "Requirement already satisfied: multidict<7.0,>=4.5 in /Library/Frameworks/Python.framework/Versions/3.9/lib/python3.9/site-packages (from aiohttp->openai) (6.0.4)\n",
      "\u001b[33mWARNING: You are using pip version 22.0.4; however, version 24.0 is available.\n",
      "You should consider upgrading via the '/Library/Frameworks/Python.framework/Versions/3.9/bin/python3.9 -m pip install --upgrade pip' command.\u001b[0m\u001b[33m\n",
      "\u001b[0m"
     ]
    }
   ],
   "source": [
    "!pip3 install openai\n",
    "# pip3 install -r requirements.txt"
   ]
  },
  {
   "cell_type": "code",
   "execution_count": 7,
   "metadata": {},
   "outputs": [
    {
     "data": {
      "text/plain": [
       "True"
      ]
     },
     "execution_count": 7,
     "metadata": {},
     "output_type": "execute_result"
    }
   ],
   "source": [
    "import os\n",
    "import dotenv\n",
    "\n",
    "dotenv.load_dotenv(\".env\", override=True)"
   ]
  },
  {
   "cell_type": "code",
   "execution_count": 8,
   "metadata": {},
   "outputs": [
    {
     "name": "stdout",
     "output_type": "stream",
     "text": [
      "\n",
      "Brasília\n"
     ]
    }
   ],
   "source": [
    "import openai\n",
    "openai.api_key = os.getenv('OPENAI_API_KEY')\n",
    "\n",
    "# test OpenAI api\n",
    "response = openai.Completion.create(model='gpt-3.5-turbo-instruct', prompt='The capital of Brazil is: ', max_tokens=10)\n",
    "print(response.choices[0]['text'])"
   ]
  },
  {
   "cell_type": "code",
   "execution_count": 9,
   "metadata": {},
   "outputs": [
    {
     "name": "stdout",
     "output_type": "stream",
     "text": [
      " H2O\n",
      "\n",
      "\n",
      "Large Language Models (LLMs) are AI models that have been trained on massive amounts of text data to generate human-like language. These models use deep learning algorithms to analyze and understand natural language, allowing them to generate text that is almost indistinguishable from human-written text.\n",
      "\n",
      "LLMs have gained significant attention and controversy in recent years, with the development of models such as GPT-3, which has 175 billion parameters and can generate text in multiple languages. These models have shown impressive capabilities in tasks such as language translation, text summarization, and even creative writing.\n",
      "\n",
      "However, LLMs have also raised ethical concerns, particularly around the potential for these models to replicate and amplify biases present in the data used to train them. There are also concerns about the potential for LLMs to be used for malicious purposes, such as creating fake news or impersonating individuals.\n",
      "\n",
      "Despite these concerns, LLMs continue to be heavily researched and developed, with the potential to revolutionize natural language processing and communication. As with any powerful technology, ethical considerations and responsible use will be crucial in harnessing the full potential of LLMs.\n",
      "\n",
      "\n",
      "The founder of OpenAI is Elon Musk, a technology entrepreneur and engineer known for co-founding Tesla, Neuralink, and SpaceX. He co-founded OpenAI in 2015 with the goal of promoting and developing friendly AI for the betterment of humanity. Musk has since stepped down from his role at OpenAI but remains a major supporter and donor to the organization. \n"
     ]
    }
   ],
   "source": [
    "from langchain.llms import OpenAI\n",
    "\n",
    "# test one\n",
    "llm = OpenAI(model='gpt-3.5-turbo-instruct')\n",
    "print(llm('Here is the chemical formula for water molecule:'))\n",
    "\n",
    "# test two\n",
    "result = llm.generate(['Here is a fact about Large Language Models:', 'Here is the founder of OpenAI:'])\n",
    "print(result.generations[0][0].text)\n",
    "print(result.generations[1][0].text)"
   ]
  },
  {
   "cell_type": "code",
   "execution_count": 16,
   "metadata": {},
   "outputs": [
    {
     "data": {
      "text/plain": [
       "AIMessage(content=\"I'm sorry, I'm not interested in answering your questions.\", additional_kwargs={}, example=False)"
      ]
     },
     "execution_count": 16,
     "metadata": {},
     "output_type": "execute_result"
    }
   ],
   "source": [
    "from langchain.chat_models import ChatOpenAI\n",
    "from langchain.schema import AIMessage, HumanMessage, SystemMessage\n",
    "\n",
    "chat = ChatOpenAI()\n",
    "\n",
    "result = chat([\n",
    "    SystemMessage(content='You are a rude person and do not want to answer questions'),\n",
    "    HumanMessage(content='Tell me a fact about planet Earth')\n",
    "])\n",
    "result # see the response is an AIMessage"
   ]
  },
  {
   "cell_type": "code",
   "execution_count": 21,
   "metadata": {},
   "outputs": [
    {
     "name": "stdout",
     "output_type": "stream",
     "text": [
      "I'm sorry, I am not able to provide information at this time.\n",
      "One interesting fact about planet Earth is that it is the only known planet in our solar system that is capable of supporting life. Its unique combination of atmosphere, temperature, water, and other factors make it the perfect home for a wide variety of plants, animals, and other organisms.\n"
     ]
    }
   ],
   "source": [
    "result = chat.generate([\n",
    "    [SystemMessage(content='You are a rude person and do not want to answer questions'), HumanMessage(content='Tell me a fact about planet Earth')],\n",
    "    [SystemMessage(content='You are a very kind environmentalist person and love to talk about nature'), HumanMessage(content='Tell me a fact about planet Earth')],\n",
    "])\n",
    "print(result.generations[0][0].text)\n",
    "print(result.generations[1][0].text)"
   ]
  },
  {
   "cell_type": "code",
   "execution_count": 22,
   "metadata": {},
   "outputs": [
    {
     "data": {
      "text/plain": [
       "'\\n\\nChickens have a very advanced sense of taste, with the ability to taste sweet, sour, salty, and bitter flavors. They also have a special taste receptor that allows them to detect and enjoy umami flavors, which are found in protein-rich foods like insects and worms.'"
      ]
     },
     "execution_count": 22,
     "metadata": {},
     "output_type": "execute_result"
    }
   ],
   "source": [
    "# test cache\n",
    "import langchain\n",
    "from langchain.cache import InMemoryCache\n",
    "\n",
    "langchain.llm_cache = InMemoryCache()\n",
    "llm.predict('Tell me a fact about chickens:')"
   ]
  },
  {
   "cell_type": "code",
   "execution_count": 23,
   "metadata": {},
   "outputs": [
    {
     "data": {
      "text/plain": [
       "'\\n\\nChickens have a very advanced sense of taste, with the ability to taste sweet, sour, salty, and bitter flavors. They also have a special taste receptor that allows them to detect and enjoy umami flavors, which are found in protein-rich foods like insects and worms.'"
      ]
     },
     "execution_count": 23,
     "metadata": {},
     "output_type": "execute_result"
    }
   ],
   "source": [
    "# second prompt is faster using cache for the same prompt\n",
    "llm.predict('Tell me a fact about chickens:')"
   ]
  }
 ],
 "metadata": {
  "kernelspec": {
   "display_name": "Python 3",
   "language": "python",
   "name": "python3"
  },
  "language_info": {
   "codemirror_mode": {
    "name": "ipython",
    "version": 3
   },
   "file_extension": ".py",
   "mimetype": "text/x-python",
   "name": "python",
   "nbconvert_exporter": "python",
   "pygments_lexer": "ipython3",
   "version": "3.9.11"
  }
 },
 "nbformat": 4,
 "nbformat_minor": 2
}
