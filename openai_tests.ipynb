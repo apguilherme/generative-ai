{
 "cells": [
  {
   "cell_type": "code",
   "execution_count": null,
   "metadata": {},
   "outputs": [],
   "source": [
    "!pip3 install -r requirements.txt"
   ]
  },
  {
   "cell_type": "code",
   "execution_count": 71,
   "metadata": {},
   "outputs": [],
   "source": [
    "import os\n",
    "import dotenv\n",
    "import openai\n",
    "import langchain\n",
    "from langchain.llms import OpenAI\n",
    "from langchain.chat_models import ChatOpenAI\n",
    "from langchain.schema import AIMessage, HumanMessage, SystemMessage\n",
    "from langchain.cache import InMemoryCache\n",
    "from langchain.prompts import ChatPromptTemplate, PromptTemplate, SystemMessagePromptTemplate, AIMessagePromptTemplate, HumanMessagePromptTemplate\n",
    "from langchain.output_parsers import CommaSeparatedListOutputParser, DatetimeOutputParser\n",
    "from langchain.document_loaders import PyPDFLoader, TextLoader\n",
    "from langchain.text_splitter import CharacterTextSplitter\n",
    "from langchain.embeddings import OpenAIEmbeddings\n",
    "from langchain.vectorstores import Chroma\n",
    "from langchain.chains import LLMChain, SimpleSequentialChain, SequentialChain, LLMRouterChain, TransformChain\n",
    "from langchain.chains.router.multi_prompt_prompt import MULTI_PROMPT_ROUTER_TEMPLATE\n",
    "from langchain.chains.router import MultiPromptChain, LLMRouterChain\n",
    "from langchain.chains.router.llm_router import RouterOutputParser\n",
    "from langchain.chains.question_answering import load_qa_chain\n",
    "from langchain.chains.qa_with_sources import load_qa_with_sources_chain\n",
    "\n",
    "dotenv.load_dotenv(\".env\", override=True)\n",
    "openai.api_key = os.getenv('OPENAI_API_KEY')\n",
    "\n",
    "llm = OpenAI(model='gpt-3.5-turbo-instruct')\n",
    "chat = ChatOpenAI()"
   ]
  },
  {
   "cell_type": "code",
   "execution_count": 34,
   "metadata": {},
   "outputs": [
    {
     "name": "stdout",
     "output_type": "stream",
     "text": [
      "\n",
      "Brasília\n"
     ]
    }
   ],
   "source": [
    "# test OpenAI api\n",
    "response = openai.Completion.create(model='gpt-3.5-turbo-instruct', prompt='The capital of Brazil is: ', max_tokens=10)\n",
    "print(response.choices[0]['text'])"
   ]
  },
  {
   "cell_type": "code",
   "execution_count": 35,
   "metadata": {},
   "outputs": [
    {
     "name": "stdout",
     "output_type": "stream",
     "text": [
      " H2O\n",
      "\n",
      "\n",
      "Large Language Models (LLMs) are computer programs that use Artificial Intelligence (AI) and Machine Learning (ML) techniques to generate human-like text. They are trained on massive amounts of data, typically billions of words, to learn the patterns and structures of natural language. LLMs have achieved significant advancements in natural language processing tasks such as language translation, question-answering, and text summarization. Examples of LLMs include GPT-3 (Generative Pre-trained Transformer) and BERT (Bidirectional Encoder Representations from Transformers). These models have been used for various applications, including chatbots, content creation, and language generation for virtual assistants. However, LLMs have also received scrutiny for their potential to perpetuate biases and misinformation, leading to ethical concerns about their use.\n",
      "\n",
      "\n",
      "The founder of OpenAI is Elon Musk, along with co-founders Sam Altman, Greg Brockman, Ilya Sutskever, Wojciech Zaremba, and John Schulman.\n"
     ]
    }
   ],
   "source": [
    "# test one\n",
    "print(llm('Here is the chemical formula for water molecule:'))\n",
    "\n",
    "# test two\n",
    "result = llm.generate(['Here is a fact about Large Language Models:', 'Here is the founder of OpenAI:'])\n",
    "print(result.generations[0][0].text)\n",
    "print(result.generations[1][0].text)"
   ]
  },
  {
   "cell_type": "code",
   "execution_count": 36,
   "metadata": {},
   "outputs": [
    {
     "data": {
      "text/plain": [
       "AIMessage(content=\"I'm sorry, but I am not going to answer your question.\", additional_kwargs={}, example=False)"
      ]
     },
     "execution_count": 36,
     "metadata": {},
     "output_type": "execute_result"
    }
   ],
   "source": [
    "result = chat([\n",
    "    SystemMessage(content='You are a rude person and do not want to answer questions'),\n",
    "    HumanMessage(content='Tell me a fact about planet Earth')\n",
    "])\n",
    "result # see the response is an AIMessage"
   ]
  },
  {
   "cell_type": "code",
   "execution_count": 37,
   "metadata": {},
   "outputs": [
    {
     "name": "stdout",
     "output_type": "stream",
     "text": [
      "I'm sorry, but I am not going to answer your question.\n",
      "One fascinating fact about our planet Earth is that it is the only known planet in our solar system that has liquid water on its surface. This abundance of water is essential for supporting life as we know it.\n"
     ]
    }
   ],
   "source": [
    "result = chat.generate([\n",
    "    [SystemMessage(content='You are a rude person and do not want to answer questions'), HumanMessage(content='Tell me a fact about planet Earth')],\n",
    "    [SystemMessage(content='You are a very kind environmentalist person and love to talk about nature'), HumanMessage(content='Tell me a fact about planet Earth')],\n",
    "])\n",
    "print(result.generations[0][0].text)\n",
    "print(result.generations[1][0].text)"
   ]
  },
  {
   "cell_type": "code",
   "execution_count": 38,
   "metadata": {},
   "outputs": [
    {
     "data": {
      "text/plain": [
       "'\\n\\nChickens have full-color vision and can see more colors than humans. They can also see ultraviolet light, which allows them to see things we cannot, such as bugs and flowers.'"
      ]
     },
     "execution_count": 38,
     "metadata": {},
     "output_type": "execute_result"
    }
   ],
   "source": [
    "# test cache\n",
    "langchain.llm_cache = InMemoryCache()\n",
    "llm.predict('Tell me a fact about chickens:')"
   ]
  },
  {
   "cell_type": "code",
   "execution_count": 39,
   "metadata": {},
   "outputs": [
    {
     "data": {
      "text/plain": [
       "'\\n\\nChickens have full-color vision and can see more colors than humans. They can also see ultraviolet light, which allows them to see things we cannot, such as bugs and flowers.'"
      ]
     },
     "execution_count": 39,
     "metadata": {},
     "output_type": "execute_result"
    }
   ],
   "source": [
    "# second prompt is faster using cache for the same prompt\n",
    "llm.predict('Tell me a fact about chickens:')"
   ]
  },
  {
   "cell_type": "code",
   "execution_count": 41,
   "metadata": {},
   "outputs": [
    {
     "data": {
      "text/plain": [
       "'\\n\\nPluto was discovered in 1930 by American astronomer Clyde Tombaugh.'"
      ]
     },
     "execution_count": 41,
     "metadata": {},
     "output_type": "execute_result"
    }
   ],
   "source": [
    "# prompt templates\n",
    "planet = 'Pluto'\n",
    "llm(f'Tell me a fact about {planet}')"
   ]
  },
  {
   "cell_type": "code",
   "execution_count": 42,
   "metadata": {},
   "outputs": [
    {
     "data": {
      "text/plain": [
       "'\\n\\nA group of flamingos is called a flamboyance. '"
      ]
     },
     "execution_count": 42,
     "metadata": {},
     "output_type": "execute_result"
    }
   ],
   "source": [
    "no_input_prompt = PromptTemplate(input_variables=[], template='Tell me a fact')\n",
    "llm(no_input_prompt.format())"
   ]
  },
  {
   "cell_type": "code",
   "execution_count": 43,
   "metadata": {},
   "outputs": [
    {
     "data": {
      "text/plain": [
       "'\\n\\nVenus is the hottest planet in our solar system, with temperatures reaching up to 864 degrees Fahrenheit (462 degrees Celsius) due to its thick atmosphere and greenhouse effect. '"
      ]
     },
     "execution_count": 43,
     "metadata": {},
     "output_type": "execute_result"
    }
   ],
   "source": [
    "single_input_prompt = PromptTemplate(input_variables=[\"topic\"], template=\"Tell me a fact about {topic}\")\n",
    "llm(single_input_prompt.format(topic='Venus'))"
   ]
  },
  {
   "cell_type": "code",
   "execution_count": 44,
   "metadata": {},
   "outputs": [
    {
     "data": {
      "text/plain": [
       "'\\n\\nMoney is used to buy things like toys, food, and clothes.'"
      ]
     },
     "execution_count": 44,
     "metadata": {},
     "output_type": "execute_result"
    }
   ],
   "source": [
    "multi_input_prompt = PromptTemplate(input_variables=[\"topic\", \"level\"], template=\"Tell me a fact about {topic} for a {level} student\")\n",
    "llm(multi_input_prompt.format(topic='Money', level='1st grade'))"
   ]
  },
  {
   "cell_type": "code",
   "execution_count": 45,
   "metadata": {},
   "outputs": [
    {
     "name": "stdout",
     "output_type": "stream",
     "text": [
      "[SystemMessage(content='You are an AI recipes assistant that specializes in vegan dishes that can be prepared in 15 minutes', additional_kwargs={}), HumanMessage(content='snack', additional_kwargs={}, example=False)]\n",
      "Sure! How about a quick and easy vegan snack like avocado toast? Here's a simple recipe that can be prepared in just 15 minutes:\n",
      "\n",
      "Ingredients:\n",
      "- 1 ripe avocado\n",
      "- 2 slices of bread (choose a vegan option)\n",
      "- Salt and pepper to taste\n",
      "- Optional toppings: cherry tomatoes, red pepper flakes, nutritional yeast, or hemp seeds\n",
      "\n",
      "Instructions:\n",
      "1. Toast the bread slices until they are golden brown and crispy.\n",
      "2. While the bread is toasting, mash the ripe avocado in a bowl with a fork until smooth. Add salt and pepper to taste.\n",
      "3. Once the bread is toasted, spread the mashed avocado evenly on top of each slice.\n",
      "4. Add your desired toppings, such as sliced cherry tomatoes, a sprinkle of red pepper flakes, a dash of nutritional yeast, or a sprinkle of hemp seeds.\n",
      "5. Cut the avocado toast into halves or quarters and enjoy your delicious and nutritious vegan snack!\n",
      "\n",
      "Feel free to get creative with your toppings and adjust the seasonings to suit your taste preferences. Enjoy!\n"
     ]
    }
   ],
   "source": [
    "system_template = \"You are an AI recipes assistant that specializes in {diet} dishes that can be prepared in {time}\"\n",
    "system_message_prompt = SystemMessagePromptTemplate.from_template(system_template)\n",
    "\n",
    "human_template = \"{recipe_request}\"\n",
    "human_message_prompt = HumanMessagePromptTemplate.from_template(human_template)\n",
    "\n",
    "chat_prompt = ChatPromptTemplate.from_messages([system_message_prompt, human_message_prompt])\n",
    "prompt = chat_prompt.format_prompt(diet='vegan', time='15 minutes', recipe_request='snack').to_messages()\n",
    "result = chat(prompt)\n",
    "print(prompt)\n",
    "print(result.content)"
   ]
  },
  {
   "cell_type": "code",
   "execution_count": 47,
   "metadata": {},
   "outputs": [
    {
     "name": "stdout",
     "output_type": "stream",
     "text": [
      "Your response should be a list of comma separated values, eg: `foo, bar, baz`\n"
     ]
    },
    {
     "data": {
      "text/plain": [
       "['apple', 'orange', 'banana']"
      ]
     },
     "execution_count": 47,
     "metadata": {},
     "output_type": "execute_result"
    }
   ],
   "source": [
    "# parsing outputs\n",
    "output_parser = CommaSeparatedListOutputParser()\n",
    "print(output_parser.get_format_instructions())\n",
    "reply = \"apple, orange, banana\"\n",
    "output_parser.parse(reply)"
   ]
  },
  {
   "cell_type": "code",
   "execution_count": 50,
   "metadata": {},
   "outputs": [
    {
     "name": "stdout",
     "output_type": "stream",
     "text": [
      "[HumanMessage(content='Give me 3 tips for life\\nYour response should be a list of comma separated values, eg: `foo, bar, baz`', additional_kwargs={}, example=False)]\n",
      "1. Stay positive and maintain a growth mindset\n",
      "2. Take care of your physical and mental health\n",
      "3. Surround yourself with supportive and positive people\n"
     ]
    }
   ],
   "source": [
    "human_template = \"{request}\\n{format_instructions}\"\n",
    "human_message_prompt = HumanMessagePromptTemplate.from_template(human_template)\n",
    "\n",
    "chat_prompt = ChatPromptTemplate.from_messages([human_message_prompt])\n",
    "prompt = chat_prompt.format_prompt(request='Give me 3 tips for life', format_instructions=output_parser.get_format_instructions()).to_messages()\n",
    "result = chat(prompt)\n",
    "print(prompt)\n",
    "print(result.content)"
   ]
  },
  {
   "cell_type": "code",
   "execution_count": 51,
   "metadata": {},
   "outputs": [
    {
     "data": {
      "text/plain": [
       "['1. Stay positive and maintain a growth mindset\\n2. Take care of your physical and mental health\\n3. Surround yourself with supportive and positive people']"
      ]
     },
     "execution_count": 51,
     "metadata": {},
     "output_type": "execute_result"
    }
   ],
   "source": [
    "output_parser.parse(result.content)"
   ]
  },
  {
   "cell_type": "code",
   "execution_count": 52,
   "metadata": {},
   "outputs": [
    {
     "name": "stdout",
     "output_type": "stream",
     "text": [
      "Write a datetime string that matches the \n",
      "            following pattern: \"%Y-%m-%dT%H:%M:%S.%fZ\". Examples: 0488-04-29T00:19:19.023413Z, 0658-12-29T12:21:21.950302Z, 1729-06-15T11:30:36.782654Z\n"
     ]
    }
   ],
   "source": [
    "# DatetimeOutputParser\n",
    "output_parser = DatetimeOutputParser()\n",
    "print(output_parser.get_format_instructions())"
   ]
  },
  {
   "cell_type": "code",
   "execution_count": 53,
   "metadata": {},
   "outputs": [
    {
     "name": "stdout",
     "output_type": "stream",
     "text": [
      "[HumanMessage(content='What is the date of brazilian Constitution?\\nWrite a datetime string that matches the \\n            following pattern: \"%Y-%m-%dT%H:%M:%S.%fZ\". Examples: 1674-09-07T01:53:16.276932Z, 1311-10-19T17:19:46.117401Z, 0930-10-25T07:30:12.137913Z', additional_kwargs={}, example=False)]\n",
      "The date of the Brazilian Constitution is 1988-10-05T00:00:00.000000Z.\n"
     ]
    }
   ],
   "source": [
    "human_template = \"{request}\\n{format_instructions}\"\n",
    "human_message_prompt = HumanMessagePromptTemplate.from_template(human_template)\n",
    "\n",
    "chat_prompt = ChatPromptTemplate.from_messages([human_message_prompt])\n",
    "prompt = chat_prompt.format_prompt(request='What is the date of brazilian Constitution?', format_instructions=output_parser.get_format_instructions()).to_messages()\n",
    "result = chat(prompt)\n",
    "print(prompt)\n",
    "print(result.content)"
   ]
  },
  {
   "cell_type": "code",
   "execution_count": 54,
   "metadata": {},
   "outputs": [
    {
     "name": "stdout",
     "output_type": "stream",
     "text": [
      "[HumanMessage(content='Extract the date from this sample text:\\nThe contract starts on February 24, 2025.\\nWrite a datetime string that matches the \\n            following pattern: \"%Y-%m-%dT%H:%M:%S.%fZ\". Examples: 1974-11-24T14:27:19.192963Z, 1858-01-12T17:07:08.710770Z, 1780-07-16T11:38:42.071243Z', additional_kwargs={}, example=False)]\n",
      "2025-02-24T00:00:00.000000Z\n"
     ]
    }
   ],
   "source": [
    "chat_prompt = ChatPromptTemplate.from_messages([human_message_prompt])\n",
    "prompt = chat_prompt.format_prompt(request='Extract the date from this sample text:\\nThe contract starts on February 24, 2025.', format_instructions=output_parser.get_format_instructions()).to_messages()\n",
    "result = chat(prompt)\n",
    "print(prompt)\n",
    "print(result.content)"
   ]
  },
  {
   "cell_type": "code",
   "execution_count": 3,
   "metadata": {},
   "outputs": [
    {
     "name": "stdout",
     "output_type": "stream",
     "text": [
      "2.Transactions\n",
      "We define an electronic coin as a chain of digital signatures.  Each owner transfers the coin to the  \n",
      "next by digitally signing a hash of the previous transaction and the public key of the next owner  \n",
      "and adding these to the end of the coin.  A payee can verify the signatures to verify the chain of  \n",
      "ownership.\n",
      "The problem of course is the payee can't verify that one of the owners did not double-spend  \n",
      "the coin.  A common solution is to introduce a trusted central authority, or mint, that checks every  \n",
      "transaction for double spending.  After each transaction, the coin must be returned to the mint to  \n",
      "issue a new coin, and only coins issued directly from the mint are trusted not to be double-spent.  \n",
      "The problem with this solution is that the fate of the entire money system depends on the  \n",
      "company running the mint, with every transaction having to go through them, just like a bank.\n",
      "We need a way for the payee to know that the previous owners did not sign any earlier  \n",
      "transactions.  For our purposes, the earliest transaction is the one that counts, so we don't care  \n",
      "about later attempts to double-spend.  The only way to confirm the absence of a transaction is to  \n",
      "be aware of all transactions.  In the mint based model, the mint was aware of all transactions and  \n",
      "decided which arrived first.  To accomplish this without a trusted party, transactions must be  \n",
      "publicly announced [1], and we need a system for participants to agree on a single history of the  \n",
      "order in which they were received.  The payee needs proof that at the time of each transaction, the  \n",
      "majority of nodes agreed it was the first received. \n",
      "3.Timestamp Server\n",
      "The solution we propose begins with a timestamp server.  A timestamp server works by taking a  \n",
      "hash  of a block of items  to  be timestamped  and  widely publishing  the hash,  such as  in  a  \n",
      "newspaper or Usenet post [2-5].  The timestamp proves that the data must have existed at the  \n",
      "time, obviously, in order to get into the hash.  Each timestamp includes the previous timestamp in  \n",
      "its hash, forming a chain, with each additional timestamp reinforcing the ones before it.\n",
      "2Block\n",
      "ItemItem...Hash\n",
      "Block\n",
      "ItemItem...HashTransaction\n",
      "Owner 1'sPublic Key\n",
      "Owner 0'sSignatureHashTransaction\n",
      "Owner 2'sPublic Key\n",
      "Owner 1'sSignatureHash\n",
      " VerifyTransaction\n",
      "Owner 3'sPublic Key\n",
      "Owner 2'sSignatureHash\n",
      " Verify\n",
      "Owner 2'sPrivate KeyOwner 1'sPrivate KeySign  Sign  \n",
      "Owner 3'sPrivate Key\n"
     ]
    }
   ],
   "source": [
    "# document loader\n",
    "loader = PyPDFLoader('./bitcoin.pdf')\n",
    "pages = loader.load()\n",
    "print(pages[1].page_content)"
   ]
  },
  {
   "cell_type": "code",
   "execution_count": 19,
   "metadata": {},
   "outputs": [
    {
     "name": "stderr",
     "output_type": "stream",
     "text": [
      "Created a chunk of size 1130, which is longer than the specified 1000\n"
     ]
    },
    {
     "name": "stdout",
     "output_type": "stream",
     "text": [
      "page_content=\"Abstract. A purely peer-to-peer version of electronic cash would allow online\\npayments to be sent directly from one party to another without going through a\\nfinancial institution. Digital signatures provide part of the solution, but the main\\nbenefits are lost if a trusted third party is still required to prevent double-spending.\\nWe propose a solution to the double-spending problem using a peer-to-peer network.\\nThe network timestamps transactions by hashing them into an ongoing chain of\\nhash-based proof-of-work, forming a record that cannot be changed without redoing\\nthe proof-of-work. The longest chain not only serves as proof of the sequence of\\nevents witnessed, but proof that it came from the largest pool of CPU power. As\\nlong as a majority of CPU power is controlled by nodes that are not cooperating to\\nattack the network, they'll generate the longest chain and outpace attackers. The\\nnetwork itself requires minimal structure. Messages are broadcast on a best effort\\nbasis, and nodes can leave and rejoin the network at will, accepting the longest\\nproof-of-work chain as proof of what happened while they were gone.\" metadata={}\n"
     ]
    }
   ],
   "source": [
    "# text splitter\n",
    "with open('./abstract.txt') as file:\n",
    "    txt = file.read()\n",
    "text_splitter = CharacterTextSplitter(separator=\"\\n\\n\", chunk_size=1000)\n",
    "text = text_splitter.create_documents([txt])\n",
    "print(text[0])"
   ]
  },
  {
   "cell_type": "code",
   "execution_count": 22,
   "metadata": {},
   "outputs": [
    {
     "name": "stdout",
     "output_type": "stream",
     "text": [
      "[-0.029769117575988324, 0.001627998690196439, -0.021420943024825508, 0.0022020228623835163, 0.018299088228344678, 0.018340899024800718, -0.01666847647978506, -0.012034472305832402, -0.019400099659536436, -0.01744893971324397, -0.010139060398588856, 0.027734337899428967, -0.010090281446497673, -0.012013566907604382, 0.0007695756066943256, 0.01392988421307595, 0.0048360881379525275, 0.011072829575279048, 0.027204737582061107, -0.02469610283321503, -0.00895442830580761, 0.010682597958549592, 0.00919832306626352, -0.0016027380782811312, -0.02652183225278456, -0.004445856055561775, 0.011874199138288572, -0.03166452855190928, -0.022619512360199632, -0.011031018778823008, 0.010661692560321573, -0.015288727647316496, -0.00946312322494745, -0.012201714560333969, -0.04975456466061894, 0.016027380084319368, -0.0027368495293083805, -0.03408954357048846, 0.039469168337079134, -0.010738345066275917, 0.010292366341820137, 0.006592131344557672, 0.008606006554211601, -0.005797730868505883, -0.01880081406052678, -0.00767223737752141, 0.0006994558048555895, -0.007602553492863504, 0.001905864606357557, 0.01259891526402116, 0.031051308504274525, 0.033755057198840144, -0.018368771647341287, -0.016989024677517905, -0.005546867486753534, 0.015985571150508512, -0.014536137967720745, -0.0028570548706275496, 0.002909318133366951, -0.014048347515486333, 0.005031203946317256, 0.021755427533828642, 0.004783824642382479, 0.0009468349341673807, -0.030382339486268263, -0.013316663234118604, -0.006881320979287192, 0.016989024677517905, 0.013602368791030554, 0.023009743976929085, 0.022131722839287812, 0.019093487773073875, 0.0213512596058289, -0.0013118062882275009, 0.020096941300083267, -0.010905587320777482, 0.0003281693269204734, 0.008417858901482016, 0.015665022952775665, 0.003985940088513118, -0.010640787162093553, -0.012194746404698826, -0.0013954274154782836, 0.02126763801291682, 0.013783547356802404, -0.0011767930341070336, -0.006320363030238599, 0.04348298244511671, -0.021058584030636623, 0.006282036311600131, 0.008341206395527672, 0.019163173054715668, 0.010898619165142339, 0.005867415218825084, 0.011546682784920582, 0.009853354841676907, 0.015790455342143784, 0.01903774066534755, 0.022870375276290683, -0.01340028389570809, 0.0120693149466533, -0.004111371546558645, -0.04423557305603505, -0.01772767711452078, -0.023943514084941872, 0.010229650147136077, 0.010180871195044894, 0.002686328538308413, 0.001973806917767973, 0.01848026772543912, -0.02586679954604858, 0.027023558084966662, -0.010006660784908188, -0.024041071989124235, 0.006076467804121393, -0.011400345928647037, 0.00908682791948828, -0.011623335290874927, -0.017839171329973428, -0.007358658266746298, 0.004090466148330625, 0.02462641941421842, 0.020013321569816375, -0.022438332863105186, 0.019218920162441994, 0.00015384979196940256, 0.014828811680267838, -0.025434757132863084, -0.03696053545087824, -0.010424765955500804, 0.01344209469216413, 0.020612605306180844, 0.012145967452607645, -0.00884293315903237, -0.01990182549171854, 0.011637272533467804, -0.024152566204576884, 0.003289097283813045, -0.04732955336733013, -0.01651517146787637, 0.02292612238401701, 0.014097126467577515, -0.007665269221886267, 0.009693081674133075, -0.013936853300033684, 0.0008775862099906994, 0.013449062847799273, 0.01781129870743286, 0.003147986777096504, -0.027525283917148768, -0.004160150498649827, -0.00859903839857646, 0.007212321410472752, 0.004912740643906872, -0.021170080108734456, 0.03704415704379032, -0.01696115019233215, 0.0015104064072404481, -0.0024058493309534685, -0.017100518892970554, 0.0027089757426145703, -0.009804575889585724, 0.0033570393623928133, 0.022131722839287812, 0.022800691857294074, 0.045740750552581366, -0.01818759401289203, -0.009351628078172209, 0.003144502466448285, -0.006390046914896505, -0.029378885959258867, 0.023748398276577144, -0.028040947923246344, -0.008668722748895661, 0.003261223497119235, 0.005849993898414636, 0.022298964162466784, 0.03827059713905983, 0.0033744604499726136, -0.024988778408407304, -0.013372410341844929, 0.00915651226980748, 0.011525777386692563, 0.014870622476723877, 0.002992939260617734, -0.027845832114881616, 0.014619758629310232, -0.010794093105324833, 0.00970701798540336, -0.022940060557932476, 0.010146028554223998, 0.017755551599706532, 0.020751974006819246, -0.02239652206664915, -0.6462239745365003, -0.006104341823645851, 0.04231228759492834, -0.038632956133248714, 0.03539960525867005, -0.00685344742542403, -0.00825061664698045, -0.026340652755690117, -0.030828318210724043, 0.01818759401289203, -0.026298841959234077, -0.015330538443772534, -0.01225049351242515, 0.0020661384723933323, 0.005090435597522447, -0.011344598820920712, 0.007491058346088263, -0.01563714846758991, -0.0058604465975286455, 0.015065738285088604, -0.01527479133604621, 0.0018849593245448613, -0.0007656558445265719, 0.0352881110432174, 0.011909040847786876, 0.010236618302771219, -0.00809034347943662, -0.019107425946989342, 0.005822120344551473, 0.033532068767934846, -0.021894796234467044, 0.00802762728475256, 0.0008305493550159651, -0.013365442186209785, 0.044096202492751466, -0.011846324653102817, -0.0189262464498949, 0.014410705578352627, -0.005390077931365978, 0.017462876024514257, -0.018410582443797327, -0.022298964162466784, 0.019232856473712277, -0.011741798593285311, -0.005550351564571105, 0.025852863234778294, 0.008731438012257129, -0.014745190087355758, -0.011860261895695695, -0.019734584168539567, -0.008835965003397226, 0.005856962519711074, 0.016877528599420072, 0.0016140617968495338, -0.01218080916210595, -0.014424642820945504, 0.030744698480457147, -0.0077697957473650695, 0.022452271037020657, -0.006275068155964988, 0.007135668904518408, 0.0028570548706275496, -0.01753256130615605, -0.013720832093440936, 0.00019402712135822993, 0.010912555476412625, -0.016194623270143524, 0.024236187797488963, -0.0019354804319601528, -0.035929207438683095, 0.03280735077955708, 0.017992476341882117, -0.006118278600577433, 0.002942418036787118, -0.006940552630492384, 0.04894622880461946, 0.01900986804280698, -0.023497533497840905, -0.012682535925610645, 0.0182154666354326, 0.01789491843769975, -0.02582498874959254, -0.04535051893585191, 0.021072522204552094, 0.026703009887233817, 0.020389616875275546, -0.03985939995380859, 0.0055886782832095735, 0.0334205745524822, 0.0025138599342498422, 0.017393192605517648, 0.043817465091474654, -0.034451902564677346, -0.04652121378604028, 0.001427656415859382, 0.017212013108423203, 0.014940306827043079, 0.013372410341844929, 0.02549050424058941, 0.010173903039409753, -0.016013443773049082, 0.002578317702181391, -0.004839572215770099, -0.019441910455992476, 0.03102343401908877, 0.012508325515473937, -0.012125062054379625, 0.003104433941731679, 0.008020659129117418, -0.04348298244511671, -0.031134930097186604, -0.010396892401637643, 0.00014775242295800482, -0.02326060689302014, -0.004860477613998119, -0.02310730188111145, 0.026117662462139632, 0.0003743351624408149, -0.010215712904543199, -0.00022342517754531216, 0.027274421001057716, -0.0027473022284223905, 0.013010052278978635, 0.010773187707096813, 0.015414159105362021, 0.006811637094629287, -0.014787000883811798, -0.030995561396548202, -0.010954366272868664, -0.0028344074334907443, 0.004954551440362912, 0.0058012149463234535, 0.03241711916282762, -0.015455969901818061, 0.015330538443772534, -0.013309695078483461, 0.00926103926094758, 0.012745252120294705, -0.003738560784578341, -0.015623212156319627, -0.01644548618623458, -0.0007347334897423867, -0.003168891942493876, -0.029629748875349922, -0.012905526219161127, -0.025629872941227812, 0.0030033917269010955, 0.0010983982564132556, -0.010592008210002371, 0.000694665023233443, 0.01839664613252704, -0.01776948791097682, -0.009121670560309176, -0.0014302695906378846, 0.01817365583897656, -0.02186692174928129, -0.016877528599420072, -0.01972064785726928, 0.020305995282363466, -0.0005400530746895312, -0.011044956021415886, 0.021407006713555225, -0.018299088228344678, 0.012996115036385758, -0.0033849131490866235, -0.019553404671445125, -0.02115614379746417, 0.019469783078533046, 0.0038883819515001064, -0.022173533635743852, -0.0016854881860775212, -0.022229280743470175, -0.002459854632601655, 0.003592223928304795, -0.004668845883450962, 0.01595769666532276, -0.015177232500541253, 0.0027351074903995947, -0.0015313116890531438, -0.02675875699496014, 0.0065538050915804995, -0.00979063957831544, -0.00460961423224577, -0.004407529802584603, 0.00833423823989253, 0.011881167293923715, 0.002188085852621287, 0.02126763801291682, -0.008285459287801347, 0.0051984462008188214, 0.0037943081251353133, 0.0012098930539425248, -0.0319990149235576, 0.030354465001082506, 0.0008257585151861565, -0.0012839326179490147, -0.022117786528017526, 0.0487232366484238, 0.013867168949714483, 0.0022438334260089076, 0.018382709821256758, 0.010034534338771349, -0.005525962088525514, -0.015428096347954898, 0.010982239826731827, -0.04813788922332961, -0.00685344742542403, -0.026173409569865958, 0.01200659875196924, 0.027037494396236948, 0.018006414515797587, 0.005299488182818756, -0.01848026772543912, 0.005306456804115196, 0.002472049370624451, 0.025462629755403657, 0.0046862667382001144, 0.007400469063202337, -0.008968364617077895, -0.016835717802964032, -0.01941403597080672, -0.014131969108398413, 0.016473360671420332, -0.0049266774208384535, -0.008306364686029367, 0.007142637060153551, 0.0006153991678776102, 0.012396830368698696, -0.0038430873100571434, -0.028960779857343657, 0.009741860626224258, 0.011323693422692693, 0.002968549784572143, 0.0035991923167705856, 0.01877294143798621, -0.0031514708549140753, 0.01938616334826615, 0.012403799455656431, 0.03102343401908877, 0.00568275164391307, -0.0016489039720091346, 0.019999383395900905, 0.00970701798540336, -0.01926073095889803, 0.010257523700999239, 0.009581586527357834, 0.03581771322323044, -0.015330538443772534, -0.003679329133373149, 0.0002859232535678856, -0.0072680689838603724, 0.000497371433402085, -0.03141366749846341, 0.023943514084941872, 0.03130217328301076, -0.01637580276723797, -0.007048563233788757, 0.008062469925573457, 0.034424026216846405, 0.026298841959234077, 0.032723729186645, -0.012173841006470806, -0.01625037037786985, 0.004188024518174285, 0.01797854003061183, 0.0060416256289617925, -0.01675209807269714, -0.007013721058629157, -0.033755057198840144, 0.039218303558342896, -0.011748766748920452, -0.004689750816017686, 0.010501418461455149, 0.00892655475194445, 0.014619758629310232, 0.0006175767747212543, 0.0165012332939609, -0.0030434602516177015, 0.005215867055567974, 0.01580439165341407, -0.01625037037786985, -0.033587814013015985, 0.016682412791055343, 0.007727984950909031, -0.012013566907604382, -0.011163419323826269, -0.035427481606500985, 0.028598422725799957, 0.0011776640535614263, 0.0009956138862585626, 0.02352540798302666, 0.019734584168539567, 0.020278120797177713, -0.012132030210014766, 0.010696534269819877, 0.02115614379746417, 0.024793660737397392, -0.009337691766901924, -0.007491058346088263, -0.0008092085052684109, -0.01257800986579314, 0.00630991033112459, -0.01563714846758991, -0.009797607733950582, 0.05421435935575748, 0.0062018997278282155, 0.005543383408935963, -0.00037346411388259113, -0.0060520783280758024, -0.006693173792218903, 0.0007194900090062304, -0.019595215467901165, -0.015232980539590171, 0.002597481061500625, 0.018954120935080657, 0.014577947832854193, -0.0016123196415254242, -0.00041505689354055336, 0.030800445588183473, 0.013602368791030554, 0.012299272464516332, -0.026981747288510625, -0.021100394827092663, 0.024222251486218677, -0.0001277181897035329, 0.01953946836017484, -0.009818513132178602, 0.0020016804716311352, -0.014494327171264707, 0.009560681129129814, -0.015414159105362021, -0.0239295759110264, 0.01112160852737023, -0.008132153344570067, -0.005856962519711074, -0.01810397241997995, 0.01342118929393611, -0.004466761453789795, 0.01637580276723797, -0.002506891545784052, -0.00833423823989253, -0.0068151211724468575, 0.001432882649001063, -0.030661076887545068, 0.018340899024800718, -0.011414282239917322, 0.013971695009531989, 0.018229402946702885, 0.020096941300083267, -0.03743438866051978, 0.00231003346567989, 0.00970701798540336, 0.00886383855726039, -0.021588186210649667, -0.003937161136421936, 0.016807845180423463, -0.003627066103464396, 0.028960779857343657, -0.012445609320789879, 0.013755673802939242, 0.0020974963369047137, 0.012111125743109338, 0.011358535132190997, 0.014410705578352627, 0.008473606940530934, 0.034786385211035296, -0.005334330357978358, 0.006111309979280994, -0.007630427046726666, -0.0026689074507286123, -0.005379625232251968, -0.00047298195735649397, -0.012382894057428411, -0.0014825327369619619, 0.014382832024489464, -0.0017577855947599013, -0.00889171211112355, -0.01067562980291445, 0.007323816091586697, 0.005797730868505883, 0.003402334236666424, 0.0026445179746830212, -0.005104372374454029, -0.015330538443772534, -0.020431425809086398, -0.008369079949390835, 0.007860385030250995, -0.02553231503704545, -0.018619636426077522, -0.022159595461828382, -0.014313147674170263, 0.0002652357266187881, -0.010605945452595248, -0.0087105335453517, -0.005271614628955594, 0.002749044267331176, -0.042033550193651535, -0.013163357290887323, 0.01979033127626589, -0.004790793263678917, 0.004644456407405371, -0.01616674878495777, -0.011790577545376492, -0.009212260308856399, -0.010034534338771349, -0.029741244953447755, 0.006292489010714141, -0.02615947325859567, -0.03280735077955708, 0.018201530324162312, -0.007623458425430228, 0.0023326806699860473, 0.0028709916475591307, 0.004808214118428069, 0.019818205761451647, 0.005404014708297559, 0.0033779447606208327, -0.01406228475807921, 0.021713616737372602, -0.007616490269795086, -0.01708658258170027, 0.010835902970458281, 0.026034040869227556, -0.035092995234852674, -0.0007369110965860308, -0.019469783078533046, 0.033532068767934846, -0.010097249602132817, 0.018703256156344418, -0.0008279361802374626, -0.008529354048257259, 0.026939936492054586, -0.008550259446485277, -0.008612975641169337, -0.025211766839312602, 0.013936853300033684, 0.002670649489637398, -0.0008806348944963983, 0.003478986975451416, -0.019637026264357205, 0.01231320970710921, -0.013546620751981637, -0.00716354245838157, -0.004100918847444635, 0.018870499342168577, -0.021002836922910297, -0.00811124887766464, 0.013734768404711222, 0.007839479632022976, 0.04532264631331134, 0.014187716216124737, -0.007651332444954686, -0.006369141982329781, 0.0041636350421286935, 0.011483966590236523, 0.023804145384303466, -0.010856808368686301, 0.01753256130615605, -0.021741491222558355, -0.02365084037239478, -0.007971880177026236, -0.01873113064153017, -0.008543291290850135, -0.000979934954002872, -0.01863357273734781, 0.00601375207509863, -0.002304807116122885, -0.016835717802964032, -0.0011663403349930236, -0.01719807679715292, -0.013267884282027421, 0.03141366749846341, 0.002008648860096926, 0.023246670581749854, -0.030939814288821876, 0.014996053934769403, 0.01041082964423052, -0.04805426763041753, -0.020542921887184235, -0.0119647879555132, -0.031079182989460278, 0.0018536014600334797, 0.03860508351070814, 0.007414405840133919, 0.040193882600166535, -0.010334176206953583, 0.029852739168900404, 0.009930007347631251, -0.010243587389728954, 0.02319092347402353, 0.0016367092339863393, -0.017922792922885507, -0.012584978021428281, 0.02334422848593222, 0.016835717802964032, -0.009295880970445885, 0.007546805919475884, 0.0007499769122708811, -0.007062500476381635, 0.014759127329948636, 0.0030138444260151055, 0.023748398276577144, -0.010940429961598379, -0.02454279782130634, -0.020556858198454517, 0.0325007407557397, -0.02115614379746417, 0.02306549108465541, -0.022898249761476436, 0.01673815989878167, 0.018745066952800458, 0.014842748922860714, 0.021058584030636623, 0.015511717009544386, 0.014717316533492597, 0.004498119085470529, 0.004724592991177287, -0.009316786368673904, -0.0003405818489106981, -0.01584620244987011, -0.012807968314978765, -0.020515047401998478, 0.01182542018619739, 0.04108584377436847, 0.03974790573835594, -0.00886383855726039, -0.009630365479449015, 0.02036174239008979, -0.014396769267082343, 0.015553527806000425, -0.010745314153233652, -0.027957326330334265, -0.012605883419656301, -0.006769826298173247, -0.03158091068428757, -0.033615690360846925, -0.03473063624066378, -0.027845832114881616, -0.021518500929007874, 0.017184140485882633, -0.006020720696395069, 0.021170080108734456, -0.025281452120954395, -0.007372595043677879, 0.005512025311593933, -0.004285582422356648, 0.03517661682776475, -0.006435341789170115, 0.014968180380906242, -0.001832696178220784, -0.009121670560309176, -0.01868931984507413, 0.004059108516649891, -0.009288912814810741, 0.005888320617053104, 0.02526751394703893, 0.028263938216796826, -0.018759003264070744, -0.014800938126404675, 0.018034287138338156, 0.003675845055555578, -0.02469610283321503, -0.02273100657565228, 0.037740998684337154, 0.002618386226897997, -0.014773064572541513, -0.014299211362899978, -0.0012586720060337067, -0.04799852238533639, 0.023163048988837774, -0.02073803769554896, -0.011031018778823008, -0.005066046121476857, -0.003127081378868484, -0.03796398711524245, 0.03325333136665804, -0.0167102872762411, 0.03163665592936871, 0.01191600900342202, 0.005404014708297559, -0.013895042503577645, 0.007491058346088263, -0.011511840144099686, 0.0250723981386742, 0.014926369584450202, 0.02412469171939113, -0.009630365479449015, 0.0002465080807535674, 0.0012342825299881159, 0.010146028554223998, -0.0008301137870811067, 0.012724346722066685, -0.007783732524296651, 0.025657745563768382, -0.04537839528368285, -0.003689781832487159, 0.02646608328241305, -0.01655698226433241, 0.015595338602456463, 0.014410705578352627, -0.010940429961598379, -0.01353268444071135, 0.01136550328782614, -0.009567649284764957, 0.020933153503913688, -0.005114825073568039, -0.0006380465468067536, -2.15313488734138e-05, -0.001062685061799262, -0.0005548609874908291, -0.011595461737011765, -0.01284281002447707, -0.01167211424296611, -0.0254208208215928, -0.0027159441310803606, 0.007456216170928662, -0.004208929450741008, 0.015748644545687744, 0.01036901884777448, -0.0020922699873477087, 0.0007621716502936766, 0.039469168337079134, 0.007132184361039541, 0.002383201893816663, 0.02281462816856436, 0.013672053141349755, -0.0256438092524981, -0.010236618302771219, 0.005602615060141154, -0.025434757132863084, 0.028849285641891008, -0.009072891608217995, -0.0058012149463234535, -0.016975086503602438, -0.022159595461828382, 0.016306117485596173, 0.014508264413857584, -0.014187716216124737, 0.009330722679944189, 0.014243464255173654, 0.004581740212721312, -0.018117908731250236, -0.024946967611951264, 0.024403429120667938, 0.006215836504759796, 0.007755858504772193, 0.020515047401998478, -0.02533719922868072, 6.282472286988623e-05, -0.020096941300083267, -0.006780278997287257, 0.01760224472515266, -0.02696781097724034, -0.009651270877677035, 0.0037490134836923508, 0.009470091380582593, 0.0075886162502706266, -0.02462641941421842, -0.025657745563768382, -0.01572077006050199, -0.00957461837172269, 0.021225827216460783, -0.004891835245678852, -0.009079859763853136, 0.019135298569529915, 0.011274914470601511, -0.003776887270386161, -0.0017116198174472218, -0.023413913767574013, -0.028138505827428707, -0.018090036108709663, -0.012341083260972371, -0.007393500441905899, -0.014396769267082343, -0.010264491856634382, 0.01761618289906813, 0.0254208208215928, -0.029574001767623596, -0.04091860058854431, -0.005414467407411569, -0.05474395781048016, -0.021197952731275026, -0.008438764299710036, -0.0012952563365174173, 0.02816638031261446, 0.027079305192692988, -0.005846509820597064, 0.028709916941252606, -0.01278009382979301, 0.023413913767574013, -0.008996238170941058, 0.00884293315903237, -0.0012107640733969175, -0.02700962177369638, -0.013769611045532119, 0.028960779857343657, -0.010752282308868794, -0.0059405836469618575, 0.01848026772543912, 0.013037925832841796, -0.0036932661431353783, 0.030103602084991455, -0.00021994096876050138, -0.0027333652186601613, -0.01112160852737023, 0.024807598911312862, 0.0035521554035881893, 0.00913560687157946, 0.014396769267082343, -0.012410767611291574, -0.012703441323838665, -0.002942418036787118, 0.006606068121489252, -0.01372780024907608, -0.009191354910628379, 0.00970701798540336, 0.004417982501698613, 0.009079859763853136, -0.013330599545388889, 0.020473236605542438, -0.015358411997635697, -0.019316478066624357, 0.048528120840059065, 0.006675752471808454, -0.017281698390065, 0.034424026216846405, 0.012410767611291574, 0.017797360533517388, -0.005508541233776362, 0.013978663165167132, -0.029908486276626726, -0.010912555476412625, 0.01863357273734781, -0.01616674878495777, -0.007205352789176314, -0.011163419323826269, 0.020305995282363466, -0.023539344294296945, 0.012961273326887453, 0.014222558856945634, -0.014717316533492597, -0.007414405840133919, 0.011177356566419147, 0.00906592252126026, -0.03297459396538124, -0.028988654342529414, -0.022577701563743592, 0.008585101155983583, -0.03110705561200085, 0.011867230051330837, -0.0056304886140043165, 0.028877160127076765, 0.0033274237696208652, 0.0159995074617788, -0.00020360871370635398, -0.009616428236856139, 0.023316355863391647, 0.02696781097724034, -0.0017482040315156082, 0.022048101246375733, 0.18998718621261715, -0.029323138851532544, 0.028849285641891008, 0.034925752049028515, -0.0035347343160083886, -0.02220140625828442, 0.006097373202349413, 0.003120112990402694, -0.01591588586886672, 0.012424704853884451, 0.02126763801291682, 0.013490873644255313, -0.002818728617650378, -0.0009006690986470392, 0.016236434066599564, -0.013825358153258444, -0.029155895665708385, -0.023943514084941872, -0.03815910292360718, -0.004376171705242574, 0.005261161929841584, -0.0029702918234809287, 0.006752405443424095, -0.0348421341814068, 0.013253947039434544, 0.000526116181342626, 0.002071364821950337, 0.005999815298167049, 0.013978663165167132, 0.02522570315058289, -0.023413913767574013, 0.007790700679931793, 0.023957450396212155, -0.0017325250992599175, -0.012132030210014766, -0.00011878989832599225, 0.0015957696898153406, 0.01264769421611234, 0.03149728909137549, 0.0376295044688845, 0.02359509140202327, -0.005550351564571105, -0.009658239033312178, -0.013205168087343363, 0.012125062054379625, 0.015205106985727008, -0.01760224472515266, -0.010334176206953583, -0.013602368791030554, 0.020682290587822637, 0.01873113064153017, -0.01321910532993624, 0.007790700679931793, 0.006839510648492449, -0.012145967452607645, 0.022898249761476436, 0.01786704581515918, -0.00032490288755117634, 0.003085270815243093, 0.010041502494406492, -0.005679267566095499, 0.024793660737397392, -0.0016628407489407157, 0.015776517168228314, -0.0028622812201845546, 0.0012604141613578165, 0.011637272533467804, 0.015595338602456463, -0.020124815785269024, -0.004407529802584603, 0.015943760354052473, 0.0008331624715868056, -0.007358658266746298, 0.009637333635084159, -0.029824864683714647, -0.03531598739104834, 0.004975456372929635, 0.0020156174813933643, -0.008013690042159684, 0.01355358983893937, -0.012898557132203394, -0.021058584030636623, 0.0035068605293145784, -0.01765799369552417, -0.01802035082706787, -0.04097434955891582, 0.00402426634149029, -0.012731314877701828, 0.0006302070806789082, -0.0015504749319570539, 0.013281820593297708, -0.01789491843769975, -0.0018675383533803848, 0.004229834848969028, -0.0013431642691542065, -0.009170449512400359, -0.015623212156319627, 0.029211644636079896, 0.004808214118428069, -0.00025717850562734446, -0.027622841821331134, 0.03054958267209242, 0.02766465261778717, -0.008870806712895531, 0.020542921887184235, 0.01694721388106187, -0.018452393240253367, -0.009693081674133075, 0.019553404671445125, -0.020152690270454778, -0.02561593662995753, -0.028263938216796826, 0.01287068357834023, -8.41110902457943e-06, -0.00629945763201058, 0.01938616334826615, 0.04234016021746891, -0.018981993557621226, 0.01867538353380385, 0.010459608596321703, -0.011476998434601381, -0.0174210670907034, -0.00013446885240955627, 0.000706424251529042, -0.008473606940530934, -0.00662000536408213, -0.03453552043229906, 0.011240071829780613, -0.016013443773049082, -0.0165012332939609, 0.004452824676858215, -0.002174149075689706, 0.011706956883787006, -0.00968611258717534, -0.010382955159044766, 0.00404517173971831, 0.001472080154263276, -0.015400222794091737, 0.014410705578352627, 0.014828811680267838, 0.0005474570310901801, -0.029490380174711516, 0.02273100657565228, -0.015414159105362021, -0.0006410952313124524, -0.030187223677903535, 0.00908682791948828, 0.010313270808725563, 0.008529354048257259, -0.02650789407886909, -0.03289097237246916, -0.0125361990693371, -0.0091774176680355, -0.0020835595599731326, -0.0028918970457871506, -0.021518500929007874, -0.02372052379139139, -0.03880019931907287, 0.014814874437674961, -0.0091774176680355, -0.04089072796600374, 0.0026445179746830212, 0.02684237858787222, -0.03149728909137549, -0.0004041687429070091, -0.008647817350667641, -0.18017563564813813, -0.009658239033312178, 0.006160088931372176, -0.030605329779818745, 0.0025330230607384283, 0.008076406236843742, 0.009832449443448887, -0.0051775408025908016, -0.02352540798302666, -0.007177479235313151, 0.0022577702029404887, -0.0016915855550889188, -0.04075135740272015, -0.007839479632022976, 0.0018483751104764747, 0.02273100657565228, -0.00811124887766464, -0.00201735952030215, 0.000286358763295082, 0.03355994139047542, 0.03707202966633089, -0.033755057198840144, 0.005916194170916266, -0.011024050623187866, -0.006505026139489317, -0.01806216162352391, 0.0005191477928768354, 0.04392895930692731, 0.01694721388106187, -0.021239763527731065, 0.012083251257923585, -0.030995561396548202, 0.0355668484444942, -0.020640479791366597, 0.01377657920116726, 0.004613098310063342, 0.012152935608242786, 0.0029737759012985, -0.009734891539266523, 0.012835841868841926, 0.021992354138649407, 0.020877406396187365, -0.023818081695573753, 0.003397107887109419, 0.007463184792225101, 0.0050068144702716645, -0.011191292877689432, -0.020389616875275546, 0.00912863871594432, -0.020194499204265633, 0.02129551063545739, -0.0387723266965323, 0.019567340982715408, 0.002149759599644115, 0.02675875699496014, -0.01225049351242515, 0.008146090587162945, -0.004728077534656154, 0.011414282239917322, 0.006665299772694444, -0.016431549874964292, -0.03144154012100398, -0.006707110569150484, -0.018048225312253623, -0.010954366272868664, -0.011658177931695823, -0.027887642911337655, 0.01772767711452078, -0.015316601201179657, 0.01580439165341407, -0.007992785575254256, 0.0019511594806311677, -0.0059405836469618575, -0.005613067759255164, 0.017880982126429468, 0.00570365704214109, -0.035343860013588906, 0.013128515581389019, 0.001326614201028799, -0.017128391515511127, -0.0163618645933225, 0.04387321406184617, 0.029406760444444624, 0.02734410628269951, 0.01756043392869662, 0.005435372805639589, 0.010982239826731827, -0.0006471926003238502, -0.01337937849748007, -0.004212413994219876, 0.01914923674344538, -0.04273039183419837, 0.015177232500541253, -0.004958035518180482, 0.02865416983352628, 0.015358411997635697, 0.018870499342168577, -0.0011863745973513266, 0.00601375207509863, 0.006574710489808519, 0.007177479235313151, -0.025100272623859953, -0.026661199090777778, 0.007463184792225101, 0.004083497992695482, 0.011623335290874927, -0.01863357273734781, 0.018981993557621226, 0.056862359079951595, 0.0011149482081233392, -0.01436889571321918, -0.00489531978915772, 0.019163173054715668, 0.016194623270143524, 0.011553650940555726, 0.01990182549171854, -0.021114333001008134, -0.006059046949372241, 0.026117662462139632, -0.00791613213797732, 0.020863468222271895, 0.004985909072043645, -0.015442033590547776, 0.019511593874989085, 0.006550321013762928, -0.001676777642287621, -0.09566255839902446, -0.01110070312914221, 0.020542921887184235, 0.010773187707096813, -0.013253947039434544, 0.037322890719776756, -0.0005491991282066278, 0.009365565320765086, -0.016724223587511383, 0.01662666568332902, -0.0050764988205908666, -0.04699506699568181, -0.01140731408428218, -0.011686051485558986, 0.011734830437650168, -0.0048569930705192515, -0.015455969901818061, 0.01765799369552417, -0.019623089953086918, 0.03629156643287198, 0.002477275720181456, -0.013086704784932979, 0.014494327171264707, -0.019846078383992216, -0.004285582422356648, 0.02397138670748244, -0.01227139891065317, 0.01576258085695803, 0.013456031934757006, -0.0077488903491370505, 0.020278120797177713, 0.006693173792218903, 0.022034164935105446, -0.036653921701770495, -0.04231228759492834, 0.0003573496136920419, -0.014731253776085473, -0.016111001677231448, -0.003654939657327558, -0.02532326105476525, -0.005933615025665418, -0.00833423823989253, -0.022089912042831773, -0.022438332863105186, -0.01251529367110908, -0.030521708186906665, -0.022508018144746983, 0.01609706536596116, 0.012898557132203394, -0.02772040158815868, -0.032026887546098164, -0.004351782229196983, -0.020041194192356945, 0.003898834650614116, 0.020947089815183974, 0.016807845180423463, -0.00957461837172269, 0.000409395063360183, -0.0035207975390768075, -0.0011140771886689463, -0.033615690360846925, -0.001745590856737106, -0.02429193490521529, 0.012459546563382756, 0.0035242816168943787, -0.010152997641181733, -0.024905156815495225, -0.005484151757730771, 0.002966807512832709, 0.004595677455314189, -0.005296004105001186, 0.025992230072771516, -0.010041502494406492, 0.005470214980799189, -0.014118031865805535, 0.00602420477421264, -0.013086704784932979, 0.0005500701476610206, 0.032528613378280266, -0.011999630596334097, -0.01658485488687298, -0.037155651259242965, 0.02462641941421842, 0.00020643962879653914, 0.0027072337037057845, 0.03308608818083388, -0.01691933939587611, -0.0007377821742480857, -0.004780340564564907, -0.045071781534575105, 0.006066015105007383, 0.021142205623548703, 0.01507967459635889, -0.03068894951008564, -0.008187901383618985, 0.004512056328063406, -0.0057594046155287106, 0.008160027829755822, 0.0006911808290005477, 0.014354958470626303, -0.019135298569529915, -0.00906592252126026, -0.04052836897181485, 0.014800938126404675, 0.007149605681449989, -0.01810397241997995, -0.01640367538977854, -0.022717070264381994, -0.004411013880402175, -0.00892655475194445, -0.007414405840133919, 0.0005400530746895312, 0.009811544976543459, 0.001900638373215876, -0.013407252982665825, 0.014940306827043079, -0.0026793599170119742, -0.019163173054715668, 0.02628490564796379, -0.002100980647552933, 0.012403799455656431, 0.01691933939587611, -0.0069161631544467925, -0.006536384236831347, 0.017225951282338673, 0.021769363845098925, -0.00595800450171101, 0.004198476751626998, -0.0019668382964715342, 0.030410213971454016, -0.012787062916750745, -0.004170603197763836, 0.002968549784572143, -0.01930254175535407, 0.0029999076490835243, 0.005390077931365978, 0.022354713132838294, 0.00428906650017422, -0.0027263968301943706, 0.0276367799952466, 0.01781129870743286, 0.014856685234130999, -0.021629995144460522, -0.005505057155958791, 0.00462006693135978, -0.012752220275929847, 0.006320363030238599, 0.019637026264357205, -0.006456247187398135, -0.019748520479809854, 0.011393377773011894, 0.01995757446209005, 0.02025024817463714, 0.00031314365925557726, -0.0013144194630060034, -0.020863468222271895, -0.013964726853896848, -0.027999137126790304, 0.02680056779141618, 0.009323754524309048, 0.013560557994574514, -0.0031932814185394666, 0.035845585845771015, 0.002163696376575696, -0.00459916153313176, -0.007261100362563934, 0.0024041070592140347, -0.008466637853573199, -0.0247100410071305, 0.008403922590211731, 0.011881167293923715, -0.011532745542327706, -0.034758512588494724, 0.0010252297118611587, 0.00053874648730028, -0.002963323435015138, -0.0006014623327383671, 0.00831333284166451, 0.022591637875013875, 0.007985816488296521, 0.0019180593443803525, 0.012013566907604382, -0.007282005760791954, -0.008501480494394096, -0.010139060398588856, -0.0038779292523860964, 0.02628490564796379, 0.010501418461455149, -0.0028622812201845546, 0.005745467838597129, -0.010236618302771219, 0.008020659129117418, 0.002496438846670042, 0.015232980539590171, 0.021448817510011264, -0.013908979746170523, -0.008480575096166076, -0.009832449443448887, -0.0063029417098281505, 0.03545535422904156, 0.026006168246686983, 0.02652183225278456, 0.01114251392559825, 0.0034005921977576384, -0.005055593422362847, -0.03935767412162648, -0.03679329226505408, 0.003095723514357103, -0.034424026216846405, -0.021184016420004743, 0.006247194602101826, -0.001648032836139418, -0.013672053141349755, -0.005048624801066408, -0.00784644871898071, 0.00906592252126026, -0.026006168246686983, 0.02367871299493535, -0.000619318930045364, -0.017281698390065, -0.02608978797695388, 0.04317637242129933, 0.016570918575602694, 0.009337691766901924, 0.029992107869538806, 0.002830923355673173, 0.023511471671756375, 0.012104156656151605, -0.002914544482923956, 0.0006776795035885009, 0.016835717802964032, 0.008731438012257129, -0.016877528599420072, -0.00260270741105763, -0.00822274309311729, -0.0019407067815171578, -0.002851828521070545, -0.00824364849134531, 0.004376171705242574, 0.02791551739652341, 0.01691933939587611, 0.08941885253135318, 0.02684237858787222, 0.0019198014997044621, 2.825479222148739e-05, -0.040305380540909555, 0.008076406236843742, 0.02681450596533165, -0.0004934517294419932, -0.002515601973158628, -0.011602429892646907, 0.012814936470613906, 0.00811124887766464, 0.002987712911060729, -0.029462507552170947, -0.008194869539254126, -0.020222373689451387, -0.03255648972611121, 0.03651455486377728, -0.04261889761874572, 0.012961273326887453, 0.02767859079170264, 0.000713828207929691, 0.03336482558211069, 0.017518624994885764, -0.01995757446209005, 0.0009546744585028881, 0.016264306689140133, -0.03637518802578406, -0.031079182989460278, -0.025546251348315733, -0.005275098706773166, 0.020515047401998478, -0.0362079448399599, -0.02779008500715529, -0.00458870883401775, 0.004512056328063406, -0.0009982270610370651, -0.0022246700666896735, 0.014828811680267838, 0.029267391743806218, -0.005059077500180418, 0.021546375414193627, -0.0011611141018513427, -0.00906592252126026, -0.00519496212300125, 0.008083374392478885, -0.01848026772543912, -0.013288789680255441, -0.034925752049028515]\n"
     ]
    }
   ],
   "source": [
    "# embeddings\n",
    "text_to_embed = \"text to be embedded as a vector\"\n",
    "embed = OpenAIEmbeddings()\n",
    "vector = embed.embed_query(text_to_embed)\n",
    "print(vector)"
   ]
  },
  {
   "cell_type": "code",
   "execution_count": 23,
   "metadata": {},
   "outputs": [
    {
     "name": "stdout",
     "output_type": "stream",
     "text": [
      "[[-0.010376109073356194, -0.007649837255698152, -0.015055530154916565, -0.02577072819835124, -0.004570913151302363, 0.0012927749521943483, -0.014011137542685183, 0.01515047476851531, -0.024821280199718607, -0.045573496483785794, 0.01083726929035195, 0.020168984820154164, -0.00908079021348479, 0.010315072984236258, -0.006724125410465201, -0.0004785386675748209, 0.02674730189897981, -0.004645512557081562, 0.015109784352876219, 0.016656028529065045, -0.00991494792503784, 0.00416061618668612, -0.015747271877394095, -0.013319396751530252, 0.014092519305285963, 0.0022091616970819124, 0.03182006707990092, -0.008409395095810703, -0.0016784881434311948, -0.012471676188979238, 0.021538902620143466, 0.0015267461226876917, -0.018690558624245554, 0.0006786008770318872, -0.028537689500325775, -0.007860072156376486, -0.00563904191693343, -0.010410017597835003, 0.01742914922017556, -0.00799570718561432, 0.017768238190254044, 0.009609768410760763, -0.002899206782616125, -0.00563904191693343, -0.020535201354873776, -0.010464271795794657, 0.011590045239304219, -0.018107327160332528, -0.016981553716822965, 0.004364069196204172, 0.02943288423232136, 0.010084492410077082, -0.03187432220918317, 0.001252084420139933, -0.04077200322398555, -0.013048126693054583, 0.0025007778946997254, 0.022895256637812205, 0.011467973992386948, -0.017049370765780582, 0.02058945462151083, 0.018053072031050277, -0.03363758038324281, -0.0002445675843929712, -0.022420533569818487, -0.01647970308418812, -0.005062591412858086, 0.0256757835847525, -0.00623922857440846, 0.00796179866113551, 0.020114731553517107, 0.023247909390211253, -0.007744781869296897, 0.008110997472693908, 0.00912148156044648, -0.011637518477426188, 0.0059679580502714925, -0.0004607365234212252, -0.012973526821614085, 0.02380401515212835, 0.012349604010739368, -0.01275651002977547, 0.020006223157597803, 0.011339119922986796, 0.01855492452633032, -0.007385348157060166, -0.001742914945300621, 0.009379188767924184, -0.019816333930400314, -0.01276329192093575, 0.013305833900532287, 0.013210888355610944, 0.003382407913052146, 0.026910065424181367, -0.017781801972574608, 0.01999265937527724, 0.0216745385807039, 0.0030772283987750694, -0.0038927361424679935, 0.0014411262601883603, -0.0054762797887157695, 0.004950692537019938, 0.002292238466811463, -0.012220749941339216, -0.006886888004344162, -0.0030161923096551344, -0.017741110625612917, -0.01064059817199418, 0.010776233201232015, 0.017090062112742273, -0.004286078844844832, 0.04646869121578138, -0.00511684561081774, -0.007446383780518802, 0.0043810239241048755, 0.010206564588316952, 0.022379842222856796, -0.014282408532483451, 0.025824981464988298, 0.010376109073356194, 0.026164070435066782, -0.0014741873975181086, 0.025662219802431937, 0.004791320888721118, 0.023858268418765406, -0.02627257883098609, -0.009148608193765008, -0.009847130876080221, 0.015164038550835873, -0.01668315609370617, 0.000633671663002296, 0.0218237364609397, -0.02646246805818358, -0.0023668378725906617, -0.009026536015525138, 0.0004251322351140338, -0.018866885931767677, -0.030382332230953997, -0.038818855822728426, -0.02163384723374221, 0.0014301058034682276, 0.022271333826937488, -0.03928001324575638, 0.009175735758406134, -0.00411992577104703, 0.019585753356241138, 0.0020989580612031846, 0.03488542600499225, 0.0005192292869407298, -0.008979063708725766, 0.01327870633589116, 0.016221994945387817, -0.011040722299870001, 0.002251547818341723, -0.00635790980706819, 0.022162825431018184, -0.002729662530407533, 0.029649901024159972, -0.006408773059447702, -0.015164038550835873, -0.006693607365905234, 0.00015036456551689573, -0.02174235562966152, -0.003885954484138362, 0.006212101941089933, 0.03103338074382464, 0.005611914817953603, 0.018771941318168932, 0.031250399398308454, -0.005269435833617577, -0.007215803672020925, 0.012898926950173585, -0.02891746981736595, 0.0012868409138444268, -0.010091274301237364, 0.01816158042696958, 0.011942697991703265, 0.020738654364391824, -0.007900762572015576, -0.04196559371645274, 0.026421776711221888, -0.010104838083557926, 0.005428807016255098, 0.03629603701458843, -0.011508664408026038, -0.0004442059547563511, 0.021294758263663727, -0.01688660910322422, 0.025024733209236656, 0.00955551421280111, 0.004333551151644204, -0.008178815452974124, 0.008572157689689663, -0.0011588350465006098, -0.6232718387302986, -0.012980308712774365, 0.017524095696419502, -0.01779536575489517, 0.007344657275759777, 0.011963042733861512, 0.017415587300500194, 0.020358874047351653, -0.02290882042013277, 0.03607902022274982, -0.0013249883531290614, -0.00035159241251713543, 0.00923677091620347, -0.00748029277065891, -0.012451330515498394, -0.019816333930400314, 0.011420501685587576, -0.02115912416574849, 0.0186363053576085, 0.00013786067196886072, -0.014824950512079986, 0.022949511767094456, -0.0009655545826846689, 0.0037944005832891087, -0.0018090372199601175, -0.007792254176096269, 0.002775439597247484, -0.007019132553663155, -0.010111619974718208, 0.007114077167261899, -0.01623555872770838, 0.003290854012202893, -0.007934671096494384, 0.007683745780176962, 0.05211112407829495, -0.009731840589000633, 0.008477213076090919, 0.012295349812779714, -0.013821248315487696, 0.035210953055395365, -0.013658485721608736, 0.006395209742788439, 0.029080231479922312, -0.01075588752775117, -0.00021532121718513447, -0.01611348654946851, 0.01772754870593755, -0.016696718013381538, -0.011963042733861512, -0.022854567153495712, -0.0012063074697153066, -0.019368736564402522, -0.026828684592903187, -0.02007404020655542, 0.009745404371321197, 0.007141204266241726, 0.021091305254145674, -0.02587923659427055, 0.017456276784816687, 0.023383545350771685, 0.011990170298502637, -0.00038444161574812487, -0.011454410210066384, -0.03995819118591335, -0.012736165287617224, -0.008951937075407238, -0.04147730872878365, 0.005961176159111211, 0.008178815452974124, -0.00024583918898552393, 0.013129507524332763, 0.03068072985407079, -0.013014217237253175, -0.016371194688268812, -0.017185006726341018, 0.014282408532483451, 0.020874290324952256, -0.023980340597005274, -0.022379842222856796, 0.01195626084270123, -0.04117890924302166, -0.027574677719372578, -0.017890310368493912, -0.011725681199864653, 0.0480149363232928, 0.003899518033628275, -0.016859481538583094, -0.022678239845973593, -0.0076701824635176975, 0.01675097314266379, 0.019016083812003474, 0.006178192950949825, -0.007195458464201379, -0.03222697309893702, -0.003306113034482877, 0.028564817064966903, -0.00739891147371943, 0.012410640099859304, 0.008144905997172717, -0.011529010081506882, -0.03016531543911538, -0.012464894297818956, -0.007771908968276724, -0.012485239039977203, 0.023017328816052077, 0.01380090264200685, 0.013692394246087545, -0.019951968028315552, 0.04701123133273272, -0.024088848992924582, 0.009433442965883838, -0.029622773459518848, -0.008490776858411483, -0.0035807747370306354, -0.01864986913992906, -0.03266100668261425, 0.03447851998595614, 0.0059645671046913516, 0.021647411016062774, -0.022705367410614716, 0.011006813775391191, 0.016628900964423918, -0.008192378303972089, -0.019938404245994988, -0.005208399744497642, 0.00041114484653043403, -0.003699455736859715, -0.018025946329054347, 0.00013446979914829798, 0.01639832039026474, -0.024251610655480944, -0.013285488227051442, 0.01740202351817963, 0.0031704777724143925, 0.0120783330209411, 0.006795333870664259, 0.009487697163843492, 0.010491398429113185, -5.674434358453356e-05, -0.006703780202645656, 0.008863774352968775, 0.008151687888332999, 0.0007383652451439447, -0.007446383780518802, -0.0165610839154663, -0.05344035239396776, -0.021728791847340955, 0.008728138392408344, -0.00047684322388858173, -0.0025499456742891675, 0.012844672752213933, -0.01567945296579128, -0.009494479055003772, 0.010816923616871105, -0.015896469757629896, -0.011834189595783959, -0.0017581739675806046, -0.02023680373175698, -0.0006213797181049354, -0.04039222476959058, 0.0023464926647711166, 0.008090651799213065, -0.003455312078871924, -0.010925432012790412, -0.004041934954026391, -0.006686825474744952, 0.012173277634539844, -0.0017547831384157888, 0.019653570405198755, -0.028185038610571925, 0.0031247007055744415, -0.006137502069649435, -0.011732463091024933, 0.02643534049354245, -0.011623954695105626, 0.036892832260822024, 0.011122103131148182, 0.005676341852653679, -0.006713952573724779, 0.017334204606576815, 0.0048421841411006306, -0.011766371615503743, -0.010430363271315848, -0.010789796983552577, 0.04315918793421031, -0.0006184126989299746, 0.010918650121630132, 0.01664246474674448, -0.00895871896656752, 0.016493265003863486, 0.0070394777614827, 0.012302131703939996, 0.003031451331935118, 0.011861316229102487, -0.0030212787280253454, -0.016059233282831455, 0.02331572643916887, -0.006106984490750767, 0.054362670965314074, 0.038384822239051195, 0.02130832204598429, -0.03027382383503469, 0.022949511767094456, -0.0311961442690262, -0.014228154334523797, -0.05127018447558162, -0.002851734475816753, -0.029134486609204563, 0.015787961361710588, 0.005106673239738617, -0.020304620780714596, -5.738013496687326e-05, -0.021254068779347234, -0.023695506756209045, -0.015191166115476998, 0.07275483196644283, -0.009881039400559032, 0.019450117395680703, 0.012220749941339216, 0.014730004967158645, -0.0043538968251250485, -0.023302162656848306, 0.02894459551936188, -0.020494510007912085, 0.007046259652642981, 0.03171155682133641, 0.02924299500512387, 0.01942298983103958, -0.014011137542685183, -0.021131996601107365, 0.001048631294206557, -0.011623954695105626, -0.01127808383386686, -0.00020959909838205615, 0.024780588852756916, 0.013699176137247826, 0.023098709647330257, 0.007785472284935987, 0.023654815409247354, -0.00516092743769827, -0.018297216387530017, 0.03781515083216834, 0.021457521788865286, -0.021009924422867494, 0.035292332024028344, 0.02012829533583767, 0.025377384098990506, 0.009297807005323405, -0.005655996644834134, -0.00021214224935949932, -0.0012529320401196433, 0.012641219742695881, -0.030734983120707847, -0.017822493319536295, 0.027968021818733313, 0.0063748640693075944, 0.009928511707358404, 0.008294104808731115, 0.0187855032378443, 0.027995147520729242, 0.017537657616094868, 0.0022769794445314795, -0.014173900136564145, -0.013088817108693673, 0.010667724805312707, -0.014336662730443105, 0.0053609895016361805, 0.0005823845424252656, -0.010959341468591819, -0.0016649245939412815, -0.0024041375754802613, -0.015896469757629896, -0.011305211398507986, 0.00779903606725655, 0.038737473128805044, 0.034749791907077006, 0.0031603049356739702, 0.013739866552886917, 0.0006879258609619494, -0.015503127520914355, -0.01883975836712655, -0.00022379842106441471, 0.020087603988875984, 0.02522818621875471, -0.02155246640246403, -0.049534050140872705, -0.006049339347210973, 0.001127469381960932, 0.003963944602667051, -0.012390294426378458, -0.015706580530432408, -0.0027262718176580417, 0.0032399907598233803, -0.005086328031919072, -0.00022782509618125385, -0.03963266786080063, 0.040690624255352574, -0.003155218750134409, -0.03792366109073284, -0.01543530954063414, 0.0054796707342959095, 0.00551697020435486, -0.006649526004686003, -0.041558687697416635, 0.044542667653874976, 0.017144315379379327, 0.013292270118211724, -0.007405693364879712, 0.01791743793313504, -0.03328492949348896, 0.02124050499702667, -0.008890900986287304, -0.000534064441023196, -0.028022275085370366, 0.01144084642774582, -0.0015691321275321773, 0.009881039400559032, -0.02659810401874401, 0.03363758038324281, 0.0028144347729271535, -0.00995563927199953, -0.03849332877232531, -0.03797791622001509, 0.0038893454297185023, 0.060439137411504876, 0.004648903502661702, 0.01156291860598569, 0.00867388419444869, -0.006883497058764021, -0.02539094788131107, -0.01430953516580198, -0.03127752696294958, 0.03328492949348896, -0.01227500413929887, 0.0016623815011715007, -0.00043488102903395127, -0.004848966032260912, 0.029622773459518848, -0.01455367952228172, 0.00715476758290099, -0.0008320384869807855, -0.012627656891697916, -0.0071276409495824615, -0.01631693955898656, 0.008545031056371137, -0.011230611527067488, 0.010945777686271257, 0.040093825283828585, 0.005784850248572986, 0.007303966860120686, 0.026815120810582623, -0.0006158695479525314, 0.012675129198497288, -0.006093420708430204, -0.025974181207869294, -0.003916472295867679, 0.00932493456996453, 0.015218292748795525, -0.003865609043488167, 0.0524637749680488, 0.002751703443847798, 0.03803216762400695, 0.022705367410614716, 0.01487920471003964, 0.015381055342674485, 0.00891802855092843, 0.006049339347210973, 0.008172033561813842, -0.005771286466252423, -0.029487137498958413, -0.012464894297818956, 0.021376140957587105, -0.018297216387530017, 0.0001994264362646211, 0.03347481872068645, -0.016411884172585305, -0.044651177912439485, -0.010491398429113185, 0.006212101941089933, -0.008260196284252305, -0.020182548602474728, 0.01099324999307063, -0.008056743274734254, -0.005903531015571417, -0.03420725179012567, -0.021837300243260263, 0.008016052859095164, -0.009847130876080221, -0.009128263451606762, -0.03713697661730176, 0.011067848933188528, -0.023573434577969173, -0.008368704680171613, -0.008409395095810703, -0.0371641004566525, -0.01148153777470751, -0.03697421122945501, -0.0001820481457566274, 0.018527796961689193, -0.0028788615747965796, 0.017822493319536295, 0.013068471435212827, -0.025743600633710118, 0.016289811994345434, -0.020738654364391824, -0.023980340597005274, -0.014146773503245617, -0.024129538477241076, -0.011203484893748962, 0.041043275145106424, 0.0011418805514305556, -0.028971723084003004, -0.020277493216073472, 0.020019786939918363, 0.004889656447900003, -0.009636895975401889, 0.021443958006544722, 0.027262716313935217, -0.011725681199864653, 0.005750941258432878, 0.0115968271304645, 0.023071583945334328, 0.009779312895800005, 0.00048235342314481686, -0.008504339709409448, -0.00024096477747364965, 0.005873012971011449, -0.022189952995659307, -0.0005951003555201438, -0.022040753252778312, -0.006120547807410031, 0.009352061203283059, -0.019572189573920575, -0.007419256681538975, 0.00715476758290099, -0.019517934444638323, 0.017903874150814476, -0.001887027571319457, 0.0167102817957021, 0.049859577191275824, -0.0014529943368882033, 0.0014496033913080626, -0.021918682937183638, 0.000437000340917708, -0.020101167771196547, 0.009569077995121673, 0.004496313745523164, 0.007412475256039993, -0.00803639760125341, 0.004543786052322536, 0.03434288588804091, -0.025323130832353453, 0.0033603672324425305, 0.013970447127046093, 0.005011728160478573, 0.022176389213338747, -0.00019211484082468303, -0.02239340600517736, -0.02255616766773372, 0.0017802147646055451, 0.0011664645576406015, 0.008110997472693908, -0.013305833900532287, 0.003311199452853088, 0.006937751256723674, -0.007256494553321314, 0.002227811664942037, -0.0035231298263214907, 0.008070307057054818, -0.03483117460100039, -0.03719122802129362, 0.013122725633172481, 0.012620875000537636, 0.009189298609404099, 0.004506486582263587, -0.00495747396251892, -0.0021209987418128002, -0.010864395923670478, 0.002860211606936455, -0.037408244813132235, -0.006893669429843144, -0.006090029762850063, 0.0058221497186319365, 0.03643167111250367, 0.011576482388306254, 0.008016052859095164, 0.019016083812003474, 0.02280031202421346, -0.0014945326053376537, -0.007256494553321314, 0.01858205022832625, -0.0003284920032060634, -0.02577072819835124, 0.0030501012997952424, 0.007785472284935987, -0.007548110285277828, -0.0019328045217440835, -0.0015860865061869066, 0.012980308712774365, -0.002299020125141095, 0.015001275956956911, -0.004537004626823554, -0.02579785390034717, -0.030843491516627155, -0.001659838291986395, -0.005489843105375033, -0.011529010081506882, 0.02155246640246403, -0.014607933720241372, -0.00948091527268321, 0.0075820192754179365, -0.011969824625021793, 0.03694708366481388, 0.0027364444215678143, 0.0205623270568697, -0.0013020999361244105, 0.012865018425694777, -0.003451921133291783, 0.023573434577969173, -0.00519822690775722, -0.026638793503060504, -0.036702943033624535, 0.004343723988384626, -0.001011331474901633, 0.007846508374055922, 0.019924842326319622, -0.017388459735859067, 0.017741110625612917, -0.00416061618668612, 0.02175591941198208, -0.0334205635914042, 0.0077244366614773515, -0.011223829635907207, -0.005506797367614437, -0.012485239039977203, 0.005194835962177079, -0.00771765477031707, -0.010172656063838144, 0.00193958629648904, -0.0002244342088087755, 0.003323067529552931, -0.00033145902238102416, -0.013054907652892266, -0.019870587197037368, 0.008680666085608971, -0.00022930860576873423, 0.02522818621875471, -0.02336998156845112, 0.011874880011423049, -0.0021854255436822264, 0.021091305254145674, -0.0009418183710773205, -0.001012179211296668, -0.0010816924315363054, 0.0007205631300941801, 0.02758824150169314, 0.023329290221489433, -0.013122725633172481, 0.0029738064212259737, 0.020738654364391824, -0.01019978269715667, -0.024183793606523327, -0.020847162760311132, 0.017171442944020454, -0.0090400997978457, 0.0036248563310805164, 0.0029568519261559192, -0.010633816280833899, 0.005903531015571417, 0.006256183302309164, -0.03583487586627008, 0.020304620780714596, -0.002568595642149292, -0.0009062140827701291, -0.010776233201232015, 0.024726335586119863, -0.0036485924844802025, 0.04161294282669889, -0.04394587240764139, -0.005947612842451947, -0.024455063664998996, -0.009406315401242713, -0.020250365651432345, 0.0018497278684298576, -0.019490808742642394, 0.019165283554884473, -0.012247877505980342, -0.023071583945334328, 0.006256183302309164, -0.0024261784889205266, 0.013244797811412351, -0.011162794478109871, -0.0030144970696957137, 0.02703213760242124, -0.020684399235109573, -0.006832633806384508, 0.018487105614727505, -0.006625789851286317, -0.005496624996535315, -0.010023456320957146, -0.005113455130898898, -0.04218261050829135, 7.927518910013858e-06, -0.003970726493827333, 0.02198649998614126, 0.0006463874760971742, -0.006846197123043772, -0.002102348773952676, 0.026136942870425655, -0.0026008089266686806, -0.028483436233688722, -0.00543897985299552, 0.03268813424725537, -0.022434097352139047, 0.02935150153839798, -0.0019531499623942784, -0.006184974842110106, 0.0211184328187868, 0.007751563760457178, 0.01931448143512027, -0.008823083006007086, 0.01847354183240694, -0.021945808639179568, 0.015462436173952668, 0.02932437583640205, -0.0008188988056883897, -0.0104846174692755, -0.006754643455025169, 0.024536446358922374, -0.023261473172531816, 0.018541360744009756, -0.006083247871689782, -0.012424203882179866, -0.017361332171217943, -0.02007404020655542, 0.006992005454683328, -0.010274382568597168, 0.005025291942799137, -0.0035977292321006894, 0.013210888355610944, 0.00967758639104098, -0.014187463918884707, -0.011576482388306254, 0.0032179500792137647, 0.01083726929035195, -0.002907684146566477, 0.01699511749914353, -0.002487214345209812, -0.009453787708042085, -0.02651672318746583, 0.022732494975255844, -0.0165610839154663, 0.0013733085127387934, -0.0371641004566525, -0.0042352155924653195, -0.008972282748888083, -0.03567211420371372, 0.004231824646885179, 0.017863182803852788, 0.003974117439407474, -0.00803639760125341, -0.017822493319536295, 0.008144905997172717, 0.014445171126362412, 0.006412164005027843, 0.02311227342965082, 0.004703157700621356, 0.00783972648289564, -0.011793499180144868, -0.006324000816928081, -0.00595778521353107, 0.004279296953684551, -0.03219984553429589, -0.014119645938604491, -0.02703213760242124, 0.02615050665274622, 0.043376204726048924, -0.011250957200548334, -0.012492020931137484, 0.007792254176096269, -0.035427969847233974, -0.02571647306906899, -0.020087603988875984, 0.007744781869296897, 0.00491678354687983, 0.02834780027312829, 0.02239340600517736, 0.027154207918015913, 0.009616550301921045, 0.03941565106896201, -0.01666959231138561, 0.008328014264532523, -0.002778830542827625, -0.027479733105773833, -0.019463681178001267, 0.00927746226316516, -0.02643534049354245, 0.01723925999297807, 0.010552434518233119, 0.0014301058034682276, -0.005035464779539559, 0.026570976454102883, 0.009731840589000633, -0.011542572932504847, 0.015652325401150156, -0.00775834518595616, 0.010491398429113185, -0.019938404245994988, -0.012932836405974993, -0.05734665092177242, 0.03059934902279261, -0.005011728160478573, 0.001555568578042264, -0.04663145287833774, -0.013373650949489904, 0.019043211376644602, 0.003780837033799195, 0.012444548624338112, -0.026530285107141196, -0.012471676188979238, 0.007242930771000751, 0.0012588661948848897, 0.013543195434529146, 0.020942107373909877, -0.0030806191115245606, 0.030707857418711917, -0.0015309846882475427, 0.0013987401389285498, -0.0059374400057115246, 0.002097262588413114, -0.01882619458480599, -0.009467351490362647, 0.005547488248914827, -0.02083359897799057, 0.003875781880228589, 0.006768206771684433, 0.000935884332727399, -0.010864395923670478, 0.006591880861146209, 0.009779312895800005, 0.001647122478891517, -0.02414310225956164, 0.010376109073356194, 0.022922384202453332, -0.025187494871793017, -0.01295318114813324, -0.005747550312852737, 0.00903331790668542, -0.005727205105033192, -0.038059295188648076, -0.0165610839154663, -0.01283789179237625, 0.013102380891014235, -0.011800280139982551, -0.008775610699207714, -0.02335641778613056, 0.011847753378104522, -0.012471676188979238, 0.012302131703939996, 0.005103282294158476, 0.21311034802448403, 0.003590947340940408, 0.011786717288984587, 0.021972936203820695, -0.0021328668185126433, 0.003131482596734723, 0.030653602289429666, -0.009385970659084466, -0.005642432862513571, 0.0052762172591165595, 0.003916472295867679, 0.030572221458151486, -0.015896469757629896, 0.00903331790668542, 0.014689314551519554, -0.013305833900532287, -0.024726335586119863, -0.009243552807363753, -0.004347114933964767, 0.006242619519988601, -0.009664022608720417, -0.002036226499293179, -0.005181272645517815, -0.0003166238974023892, 0.004245388429205741, -0.01524542031343665, 0.005788241194153127, -0.015896469757629896, 0.019965531810636112, 0.030707857418711917, -0.03154879515878005, 0.003411230484822043, 0.015665889183470717, -0.003219645552003835, -0.033257801928847835, -0.01135946559646764, 0.0288632146880837, -0.020630145968472516, 0.023844704636444843, 0.010070929559079117, 0.017659729794334736, -0.011827407704623677, -0.01547599995627323, -0.025011169426916093, 0.036567305210418906, 0.023844704636444843, -0.012132587218900754, -0.03257962398869087, -0.017008679418818895, -0.007487074661819192, -0.04524797315867307, -0.021172687948069053, -0.00663935316794558, -0.00011709150864030427, -0.023695506756209045, -0.01207155112978082, -0.000765916212321289, 0.022786748241892897, -0.004194525176826228, -0.008402613204650421, -0.013176979831132135, 0.010504962211433747, -0.0014546898096782735, 0.0030890964754749124, -0.018351471516812268, 0.01508265771955769, -0.019436553613360143, 0.01627624821202487, 0.019219536821521527, 0.004143661924446716, -0.015164038550835873, -0.023519179448686922, 0.01859561401064681, 0.015448873322954703, -0.0026516721790481933, -0.017876746586173352, 0.016940862369861278, 0.024088848992924582, 0.022596859014695412, 0.015286110729075743, -0.012417421991019584, 0.008592503363170509, -0.03149454375478819, -0.001428410447093482, -0.008931591401926394, -0.01955862579160001, 0.03198282874245728, 0.0031823458491142356, 0.0048455750866807715, 0.010023456320957146, 0.005805195456392531, -0.008463649293770357, -0.017374895953538503, -0.0211184328187868, 0.0059713489958516325, -0.00483540224994035, 0.009887821291719312, 0.007812599849577113, -0.0032247317375433964, 0.0019887541924938075, -0.027995147520729242, 0.06960809407271852, -0.013088817108693673, -0.006479981519646761, 0.012064769238620538, -0.016140614114109636, 0.0012080028260900522, 0.007778690859437005, 0.012329258337258524, -0.04421714432876225, 0.0030687510348247175, -0.03266100668261425, 0.010389671924354159, -0.014784259165118297, -0.010498180320273465, 0.0433490771614078, -0.006418945896188125, -0.010538871667235154, -0.0052524811057168734, 0.0036689376922997476, 0.006595271806726349, -0.0323083557928604, -0.037706644298894226, 0.0003212863602635891, 0.006608835123385613, -0.00788041689853473, -0.013943319562404967, 0.0011062763213310267, -0.03255249642404974, -0.00887733720396674, 0.011793499180144868, 0.008104215581533626, 0.01851423317936863, 0.007982143403293757, -0.025472330575234448, 0.00303992869588547, 0.017578348963056555, -0.008748484065889187, -0.013536413543368866, 0.017456276784816687, -0.012905708841333867, 0.011488318734545193, -0.007134422375081444, 0.01024047311279576, -0.00043254978305143566, -0.04226399320221473, 0.0014580806388430896, -0.019938404245994988, -0.020752218146712388, -0.010857614032510196, -0.0012037642605302009, -0.014499425324322066, -0.003780837033799195, -0.017849619021532225, -0.009901385074039875, -0.0005094804930208124, -0.0043776329785247346, 0.012132587218900754, 0.011088194606669374, 0.0033841033858422165, -0.03651305380642705, -0.002027749368173477, -0.01592359732227102, -0.013149853197813607, -0.00739891147371943, 0.016289811994345434, -0.17155166405235778, 0.017103625895062834, -0.009948857380839247, 0.0030890964754749124, 0.023329290221489433, -0.006015430357070865, 0.023247909390211253, 0.006761425346185451, 0.006246010465568742, -0.007941452987654666, 0.004557349834643099, 0.006724125410465201, -0.013339742425011096, -0.02463139097252112, 0.014485861542001502, 0.002734748948777744, -0.005157536492118129, 0.01211224154541991, 0.019653570405198755, 0.01015909228151758, 0.0080024890767746, -0.027656060413295953, 0.01268191108965757, -0.03407161396692004, 0.015326801144714833, 0.007541328859778845, -0.006388427851628157, -0.017361332171217943, -0.013821248315487696, -0.017849619021532225, -0.017062934548101146, -0.002056571939943374, 0.018622741575287937, 0.027479733105773833, 0.00012980732173518245, 0.018866885931767677, 0.0002246461429075343, -0.006941142202303815, -0.004662467284982265, 0.03163017785270343, 0.014906331343358167, 0.025974181207869294, -0.009385970659084466, -0.002563509223779081, 0.007853290265216204, 0.01335330620733166, 0.0018090372199601175, -0.01496058554131782, -0.011888443793743613, 0.0031128326288745985, -0.0011732463323855583, 0.0063986002227072805, -0.00775834518595616, 0.013617795305969644, -0.003970726493827333, -0.008578939580849945, -0.016981553716822965, -0.003970726493827333, -0.003631637989410148, -0.024943352377958476, -0.003977508384987615, -0.018283652605209453, 0.004964255853679202, -0.014092519305285963, 0.0036079018360104624, -0.044190016764121126, -0.002539773070379395, -0.004343723988384626, -0.020101167771196547, 0.0063748640693075944, -0.025730036851389554, -0.028293547006491233, 0.0065579718710061, -0.004021589746206846, 0.021525338837822903, 0.010464271795794657, -0.025648656020111373, 0.03512957036147198, -0.01335330620733166, -0.01140015601210673, 0.023302162656848306, 0.026896501641860804, -0.006496936247547464, -0.001155444100920469, 0.013312615791692567, -0.008402613204650421, -0.009297807005323405, 0.018771941318168932, 0.0187855032378443, -0.0033603672324425305, 0.0018802457965745002, -0.01287858220801534, 0.0005878947125776696, -0.0033213720567628604, -0.0025245140480994114, 0.008775610699207714, 0.024251610655480944, 0.021050615769829185, 0.022461223054134977, -0.005564442511154232, 0.00451665895334271, 0.019626442840557628, -0.0033078085072729474, 0.00915539008492529, 0.009331716461124812, 0.007493856552979473, 0.0070937319594423535, -0.003631637989410148, 0.0320099563070984, -0.01127808383386686, -0.035726365607705576, 0.014377353146082196, 0.02414310225956164, 0.049506922576231585, 0.010294727310755415, 0.017713984923616987, -0.0032298181559136077, 0.003909690870368698, -0.0037977915288692496, -0.00828054195773315, 0.04820482555049029, 0.002154907499122259, -0.012207187090341251, 0.03635028841858029, -0.008097433690373345, 0.001839555264520085, -0.12706324780247466, -0.04351183882396416, -0.014906331343358167, 0.0193416089997614, 0.007751563760457178, 0.030924872347905336, 0.009101135886965636, 0.01759191274537712, -0.03217271796965477, 0.043186315498851435, -0.000375116690025725, -0.041694325520622265, -0.011922352318222421, -0.010274382568597168, 0.009474133381522929, -0.03182006707990092, -0.013461814603250966, -0.012810764227735123, -0.0005120236439982556, 0.045492117515152815, -0.008341578046853084, -0.018500669397048065, 0.008585721472010227, -0.016018541935869764, -0.008728138392408344, -0.0060764664461908, -0.013943319562404967, 0.018948266763045857, -0.0015742184294870636, -0.014784259165118297, 0.015381055342674485, -0.009168953867245852, 0.0017971691432602745, -0.009270680372004878, 0.0036418108261505704, -0.01287858220801534, -0.004618385458101735, -0.04440703355595974, 0.03738111724849111, -0.001231739095905063, 0.009168953867245852, 0.011820625813463395, 0.03163017785270343, 0.010525307884914592, 0.01555738171887401, -0.0187855032378443, -0.007175113256381834, 0.01664246474674448, -0.026096253386109165, -0.01839216100112876, -0.05425416443203997, -0.009501260014841457, -0.02299020125141095, 0.009338498352285094, 0.01339399662297075, -0.0002767810144315154, 0.0018853322149447113, 0.04267089922125083, -0.006673262158085689, -0.049181399251118856, -0.0043267697261452215, -0.006724125410465201, -0.03238973476149338, 0.025404511663631633, 0.006768206771684433, -0.004781148051980696, -0.02095567115623044, -0.009942075489678966, 0.004682812492801811, -0.027533988235056085, 0.009765749113479442, 0.013997573760364621, -0.012288567921619434, 0.014607933720241372, -0.00908079021348479, -0.0053609895016361805, -0.012119023436580192, -0.027005010037780112, 0.05485095967827355, 0.0197485150187975, 0.0003405720431084964, -0.018663432922249625, 0.004509877527843728, -0.009928511707358404, 0.011732463091024933, 0.006242619519988601, 0.020575890839190265, 0.016656028529065045, 0.0076701824635176975, -0.025268877565716396, 0.014933458907999294, 0.008009270967934882, -0.010145528499197016, 0.0037876186921288273, -0.0125598389114177, -0.022854567153495712, -0.0037944005832891087, -0.00540168038293657, 2.1312242637636425e-05, 0.01572014431275297, -0.04836758721304665, 0.002246461399971512, -0.04025659067167534, 0.027411916056816213, 0.017307078904580886, -0.020182548602474728, 0.009840348984919941, 0.0004234367914277946, 0.028293547006491233, -0.027778132591535824, 0.0025974179810885397, -0.00835514089785105, -0.03219984553429589, 0.018419288565769885, -0.0021345622913027137, -0.009114699669286198, -0.022040753252778312, -0.02946000993431729, 0.038384822239051195, -0.028537689500325775, 0.007053041078141964, 0.03721835558593475, 0.005513579258774719, -0.001619147643516655, 0.0027262718176580417, 0.0030484058270051724, 0.012865018425694777, 0.0006413011741422879, -0.006744470618284747, 0.00511684561081774, -0.0002130959382519983, -0.019165283554884473, -0.012661565416176726, -0.035373714717951726, 0.013095598999853955, 0.010030238212117428, 0.00271779445370769, 0.017361332171217943, -0.01907033894128573, 0.024183793606523327, 0.031169016704385075, 0.038384822239051195, -0.01508265771955769, -0.027696749897612446, -0.020277493216073472, -0.01467575076919899, 0.0024448282239500014, -0.008653539452290443, 0.006713952573724779, -0.0032349045742838187, 0.006266355673388287, 0.011013594735228874, 0.03111476343774802, 0.021850864025580823, -0.031250399398308454, -0.03404448640227892, 0.01563876348147479, 0.0064291182672672476, 0.006269746618968428, 0.002475346268509969, -0.014811386729759424, -0.022610422797015972, 0.03827631198048669, 0.0218237364609397, 0.024210921171164454, -0.012471676188979238, 0.014255281899164923, -0.01576083379706946, -0.03900874504992591, -0.008904464768607866, 0.02484840776435973, -0.03317641923492446, -0.002895816069866634, 0.001555568578042264, 0.007771908968276724, -0.01336008809849194, 0.020860726542631696, -0.01955862579160001, 0.014119645938604491, 0.0071208590584221805, -0.016330503341307125, -0.0035061753312514367, 0.007371784374739603, -0.014730004967158645, -0.0292701207071198, 0.006656307895846284, 0.024427937963003066, 0.01721213429098214, 0.0100777105189168, 0.01551669037191232, -0.015177602333156435, 0.014730004967158645, -0.0037265828358395417, 0.013495723127729774, -0.004272515528185568, 0.010342199617554787, 0.010328636766556822, -0.004906610710139407, -0.013427905147449558, 0.004506486582263587, 0.04117890924302166, 0.0021498213135826972, 0.02575716441603068, 0.0018446415664749713, 0.011773153506664023, 0.005483061214214751, 0.012085114912101382, 0.039497030037595, -0.028808961421446642, -0.02148464935350641, -0.009887821291719312, 0.02555371140651263, 0.0071479861574020075, 0.013461814603250966, 0.006110374970669608, 0.015706580530432408, -0.022081444599740003, 0.057129634129933805, 0.0006442681933172486, -0.012702255831815817, -0.016601773399782794, 0.015231856531116089, 0.024482191229640123, 0.0076701824635176975, -0.005299953412516246, -0.01627624821202487, 0.03127752696294958, 0.028130783481289674, 0.007819381740737395, -0.039903936056631104, -0.0034654846827816966, 0.006195147213189229, 0.01087795970599104, 0.0032009955841437107, 0.011284865725027142, -0.014580806155600246, -0.007351439166920058, -0.026096253386109165, 0.005086328031919072, 0.012993872495094929, -0.006741079672704606, 0.07221228812420111, 0.029215867440482744, 0.007778690859437005, 0.014119645938604491, -0.0105592164093934, 0.0031060509705449664, 0.005106673239738617, 0.01175280783318318, 0.011895225684903895, -0.02522818621875471, 0.018988958110007545, 0.012119023436580192, 0.009704713955682107, -0.035265204459387224, 0.018148018507294215, 0.01019978269715667, -0.027235590611939288, 0.016533956350825173, -0.023288598874527746, -0.01572014431275297, 0.029053103915281184, 0.008694229867929533, 0.008558593907369101, -0.01715787916169989, -0.009128263451606762, -0.010891523488311603, 0.008965500857727801, -0.01335330620733166, 0.015747271877394095, -0.02487553346635566, 0.033610452818601685, 0.015136911917517345, -0.028564817064966903, -0.013828030206647976, 0.01087117781483076, -0.003496002727341664, 0.004387805349603857, -0.0013436383209891858, -0.002948374795036217, 0.0070598229693022456, 0.0007086949951866748, 0.016981553716822965, -0.009935293598518684, -0.02095567115623044, 0.00031725969969866556, -0.006842806177463631, -0.026815120810582623, 0.0140789555229654, -0.02336998156845112], [0.006199373811929772, 0.0059611978443454726, -0.008206854505930655, -0.02626737930323291, 0.005688996938103966, 0.00019968481335011474, -0.01856409556580954, -0.005593726830467017, -0.0005371713151123109, -0.037264290886247914, 0.023436490250850272, 0.017869984582028358, -0.0022541631290801255, -0.012425967388520797, -0.002849602349548949, -0.003576038375472201, 0.02565492668211292, 0.016536200281143363, 0.006315058975893303, 0.009656323970779182, -0.022007435376667044, 0.0046376213044544085, -0.029805989687388647, -0.008247684618583816, 0.0019445345807681139, 0.024008111827994536, 0.039877421821340533, -0.020074810665299096, -0.010146285322617124, -0.008798891605062784, 0.004256540408245326, -0.008349760365878004, -0.018400775115196895, -0.011296333650901609, -0.018890736467034836, -0.01411361235529234, 0.002449807457681633, -0.007118051346625912, 0.00410002466596735, -0.017434462759512923, 0.013058834600306088, 0.009329683069553887, -0.012153766947940573, -0.0029669890398421103, -0.012391942449863589, -0.0022354491334218916, 0.012807048750391162, -0.016223169727909978, -0.01358962606479719, -0.004028572201654959, 0.04254498669782026, 0.0013541991243809358, -0.01830550454189866, -0.011956420627348151, -0.028363324465213505, -0.012487213023161822, -0.0049064196236979375, 0.0333718207675282, 0.007199711571932236, -0.033017959170319085, 0.0047635142294118705, 0.013222155050918734, -0.03334460007154438, 0.01437220337920322, -0.015379345847540355, -0.016822010138392927, -0.010098650035968007, -0.004086414783636724, -0.005678789642771317, -0.001963248460011027, 0.0020908424456368368, 0.025137746496936293, 0.009772009134742712, -0.004168075008943047, 0.02641708940585365, -0.017516122984819246, 0.014195272580598663, -0.008029923707326098, -0.03133031327222498, 0.013963902252671601, 0.0020108835138295017, -0.020074810665299096, 0.008737645970421757, 0.012351112337210427, 0.018659366139107774, -0.01056819679714065, 0.01913571714295381, 0.0068968883140315, 0.0006970892951423016, 0.012255841763912194, 0.028880506513035267, 0.02448446283184057, 0.0005882089559287632, 0.03593050658536291, -0.021463034495506596, 0.030268730343242768, 0.001845861769717866, 0.03326294170888319, 0.001799927892983059, 0.011840735463384622, 0.01340589009219668, -0.013160909416277709, 0.0003606660727131431, -0.01718948208359395, -0.02809112495595585, -0.010874423107700648, -0.009908109820694108, -0.012119741077960799, 0.008091169341967124, 0.012562068074472191, 0.00029729434506732495, 0.04480425603570377, -0.008921381943022269, 0.0016612756160291435, -0.009595079267460723, 0.0016374580891199062, 0.01834633558587439, -0.0053181233372275325, 0.01850965603648704, -0.01437220337920322, 0.023817572544043205, -0.02459334375313071, 0.016794791305054242, -0.015392956195532265, 0.037618152483457026, -0.013766556863401747, -0.004722684116758709, 0.006219788868256353, 0.02689344040969968, -0.019435139210840415, -0.016508979585159542, 0.02155830506880483, -0.014698844280428515, -0.0035215981476577718, -0.017475291940843515, -0.006226593576591024, -0.031139773988273643, -0.011010522862329475, -0.02364064174543865, -0.03372568236473731, 0.00911192215829617, 0.021422205314176, -0.029942089442017473, -0.0163048299532163, -0.002653958020947442, 0.021503865539482324, -0.005750242107083709, 0.0338073407273985, -0.0009858773473376643, -0.011657000422106677, 0.010554586449148742, 0.0016850931429383809, -0.00577065716341029, -0.0012249037288408165, 0.006291241332568745, 0.02504247592363806, -0.003183048424770198, 0.033562361914124664, -0.0022065278424310093, -0.0306498126364357, -0.012194597060593735, -0.0021112575019634175, -0.0016612756160291435, 0.0038210190513911723, 0.011180648486938078, 0.02784614428003688, -0.00041850877111022927, 0.024566123057146894, 0.020836973389039826, -0.003593050844800805, -0.004208905121596209, 0.007458302595843116, -0.009105116984300214, -0.004783929285738452, -0.00017735584549291686, 0.018618535095132047, 0.014249713041243735, 0.016985330589005573, -0.0119292008626869, -0.04978553164203464, 0.02342287990285836, -0.03051371101916174, -0.004974469966673635, 0.04472259394775231, -0.015842087434717045, 0.011636584900118813, 0.02038784121853248, -0.01314049482561241, 0.01629121960522439, -0.006178958755603191, 0.009404538120864257, 0.00011749293382535718, -0.0037631762365787653, -0.01009184579329462, -0.6175692029941265, -0.021490255191490414, 0.013460330552841751, -0.027587553256126, -0.006376304144873045, 0.026485139283168063, 0.012834268515052413, 0.012725388525084837, -0.0019088082321965974, 0.03448784322583291, 0.0017761103660738214, 0.02011563984662969, 0.0020023772791652, -0.011840735463384622, -0.02731535188422321, -0.01703977198097321, 0.014589964290460939, -0.01781554319006072, 0.02871718606242262, 0.017992473988665277, -0.010493341745830283, 0.027056760860312327, -0.004300773107896465, 0.0033004348822327175, -0.008574325519809111, -0.007050001003650215, 0.0064443544878487425, 0.009826449595387783, -0.01389585144403462, 0.011731855473417046, 0.0002719881572426422, 0.008465445529841535, -0.0076964780977661325, 0.00432459028555974, 0.05256197930244964, 0.007417472483189955, -0.0034637553328453648, 0.018019694684649097, -0.00448791120183367, 0.03859807518713291, -0.015175195284274546, -0.01314049482561241, 0.028553865611809972, 0.0013567509482140978, 0.00765564798511297, 0.0006247859512497741, 0.02177606504873998, -0.016590639810465865, -0.017910813763358954, -0.01566515663611249, 0.0056651797604406915, -0.01288190380170153, -0.026131279548604083, -0.009105116984300214, 0.008159219219281538, 0.007846188666048153, 0.024770274551735267, -0.008302125079228888, 0.01644092970784513, 0.011949616384674764, -0.010241555895915357, 0.013167714590273664, 0.021463034495506596, -0.032473556426513506, -0.015039095529645718, -0.007771333614737784, -0.04608359894462113, 0.004702269060432128, 0.033126838228964096, 0.003303837469230695, 0.01808774456196351, 0.025695757726088647, -0.022388517669859973, -0.02809112495595585, -0.000831063131389319, 0.008322539669894186, 0.01580125825338645, -0.021422205314176, -0.021721625519417476, 0.026634849385788802, -0.02528745659955703, -0.01437220337920322, -0.009581468919468813, -0.03162973347746645, 0.03315405892494791, 0.009533833632819696, -0.002187814079603417, -0.020619211546459543, 0.004242930060253417, 0.023450100598842182, 0.01411361235529234, 0.021354153574216453, -0.0039401068023526805, -0.033589582610108484, 0.0005831051918471179, 0.024457243998501885, -0.004147659952616466, 0.007172491807270984, 0.008016314290656756, -0.016059847414652197, -0.006539624595485692, -0.020809752693056006, 0.0032340860655866504, 0.001533681513988013, 0.026852611228369086, 0.01461718405512219, 0.0018169404787269834, -0.020741702815741593, 0.03511390433229968, -0.032419118759836135, 0.007784943497068411, -0.021844114926054394, -0.006199373811929772, -0.006396719201199626, -0.004981275140669589, -0.03331737937556056, 0.03952356022413142, 0.003194957013601836, 0.0065158069521611345, -0.01667230003577219, -0.010983303097668224, 0.01595096835600719, 0.008451835181849625, -0.008826111369724037, -0.0010428693989852562, 0.010343630711886978, 0.006019040426327238, -0.01626399890924057, 0.01334464538887822, 0.020047589969315275, -0.0035896482578028277, -0.024307533895881146, 0.02588629701003998, 0.0027628382437456596, 0.019965929744008952, -0.00017267739023410373, 0.022647108693770856, -0.0013167714823104305, 0.006781202684406686, -0.012602898187125353, -0.000640522566869457, -0.00897582240366734, -0.01099010827166418, -0.010466121049846462, -0.01731197149023087, -0.054140742416608476, -0.012949953679015944, 0.018917957163018657, 0.006434146726854811, 0.005182023116937421, -0.0036679061289418154, -0.01834633558587439, -0.012038080852654476, 0.01486216473104116, -0.004943847149353121, -0.004651231652446318, -0.01389585144403462, -0.014902994843694324, -0.013569210542809327, -0.02640347905786174, 0.0006894336490198338, 0.024008111827994536, -0.026240158607249094, 0.012051691200646385, -0.0005537585192738277, -0.0009680141730519061, 0.007635232928786389, -0.0024072760515294824, -0.01411361235529234, -0.03799923477664996, -0.006144933351284701, -0.006805020327731244, -0.017407242063529102, 0.036638229779781144, -0.008451835181849625, 0.03797201408066614, 0.015542667229475568, -0.005825097624055361, -0.008002703942664845, 0.004892809741367311, 0.005930575492686243, -0.01294314850501999, -0.015093535058968223, -0.007390252252867419, 0.021394984618192184, 0.00667232269443911, 0.010996913445660133, 0.010500146919826236, -0.011405214572191751, 0.018251065012576156, 0.004729489290754664, 0.032446339455819956, 0.010908448046357854, 0.007662453159108925, -0.020442280747854983, -0.0010318112240724714, 0.02015647089060542, 0.010445706459181166, 0.01987065917071072, 0.044559273497139666, 0.026158498381942768, -0.013235764467588076, 0.0075263524731575306, -0.025110525800952473, -0.010588612319128516, -0.03448784322583291, 0.0030197277413269094, -0.013092859538963294, 0.0211363935942813, 0.0273017415362313, -0.004205502534598232, -0.011098988261631755, -0.022851258325714097, -0.044559273497139666, -0.01898600704033307, 0.06707028243628169, -0.0010947576865512028, 0.03035039056854909, 0.00500169019699617, -0.0007600356994133725, -0.02372230197074497, -0.031248654909563786, 0.038461975432504084, -0.007124856520621867, -0.0014137429998616897, 0.027533113726803494, 0.00583530491938801, -0.0048519796287141495, -0.003264708650076522, -0.03154807511480526, 0.004773721990405803, 0.009697154083432344, -0.0050663379529738905, 0.005787670098400177, 0.03277298035704525, 0.018414385463188805, 0.027124810737626744, 0.012140156599948663, 0.027927804505343202, 0.0030333378564881774, -0.0002911272725488118, 0.04850618500782702, 0.03595772728134673, -0.038053676168617594, 0.03201081577065938, 0.009595079267460723, 0.0160190182333216, 0.01767944343543189, 3.2722578634918974e-05, 0.004845174454718194, 0.005103765478629074, 0.013011199313656971, -0.02530106694754894, -0.008043534055318007, 0.03859807518713291, 0.0007625875814541951, 0.0078121637273909465, -0.01153451008414719, 0.02564131633412101, 0.01729836114223896, 0.01932625828955027, 0.006988755834670472, 0.0037903964669013007, -0.022361296973876156, 0.0092276073222597, -0.008220464853922565, 0.00364068589861928, 0.008894162178361018, -0.006770995389074037, 0.0004593388837633911, -0.00866279091911139, -0.019938710910670267, -0.009921720168686017, -0.002412379699195807, 0.03277298035704525, 0.03827143428590762, -0.00942495364285212, 0.01486216473104116, -0.00017193308888021128, -0.009765203960746758, -0.024824714081057773, -0.012732193699080793, 0.0310308930669835, 0.020483111791830714, -0.01273899794175418, -0.026607630552450117, -0.008819306195728082, -0.008050339229313962, 8.639186053889525e-05, -0.0030503503258167805, -0.016059847414652197, -0.007192906863597565, 0.0013814191218728298, -0.009207192731594403, -0.003501183091331191, -0.03339904146351202, 0.04366101288141524, -0.014739674393081676, -0.020347012037201885, -0.025831857480717476, 0.018142184091286016, 0.0006724210632759094, -0.0265395806751357, -0.030214290813920262, 0.03535888687086378, -0.010711102657088, -0.0037223461239256034, -0.002046609978816339, 0.005651569412448781, -0.0320380364666432, 0.033616799580802034, -0.0015217726923257339, -0.008948601707683522, -0.03228301527991704, 0.016794791305054242, -0.0056753870557733396, 0.008934992291014179, -0.02116361429026512, 0.02986042921671115, 0.005539286835483229, -0.009057482628973665, -0.02667568042976453, -0.031112553292289822, 0.01739363171553719, 0.05901313896429434, 0.006172153581607236, -0.014195272580598663, 0.02655318916048248, -0.017761103660738214, -0.019230987716252042, -0.004283760172906578, -0.0338073407273985, 0.038244213589923796, 0.0015413371019028204, 0.010881227350374036, 0.005025507840320728, -0.0012708376055756234, 0.026117669200612176, 0.006937718426684661, 0.012024471435985134, 0.00203470115715406, -0.007703283271762087, 0.012092521313299546, -0.02176245470074807, 0.009370513182207049, -0.019081277613631303, 0.007914238543362567, 0.038053676168617594, 0.009833254769383739, 0.01782915353805263, 0.060156382118582874, 0.016059847414652197, 0.006845850440384406, -0.00461380366112985, -0.011405214572191751, -0.00718610168960161, -0.0017914216583187572, 0.0054338089668523465, -0.009955745107343225, 0.031793053928079094, -0.0007098487053464146, 0.017883593067375133, 0.00529090357256628, 0.015352126082879102, 0.017257531960908363, 0.028853287679696582, 0.0011857747932713224, -0.002790058474068195, 0.006039455482653819, -0.045974719885976116, 0.01808774456196351, -0.0010871019822210745, -0.016481758889175722, -0.011262308712244401, 0.03195637437869175, 0.007002366182662382, -0.035086687361606125, -0.013235764467588076, -0.0036474910726152347, -0.01654981062913527, -0.02064643224244336, 0.0047192815297607315, -0.015705987680088216, -0.00445388579751518, -0.02728813118823939, -0.025464387398161585, 0.006270826276242163, -0.008206854505930655, -0.006410329083530252, -0.006468172131173301, -0.012106131661291456, -0.0018305504774729303, -0.012909123566362783, -0.003552220732147643, -0.013630456177450352, -0.015025485181653808, -0.04014962133059819, -0.008819306195728082, 0.010472926223842417, -0.003001013978499317, 0.01720309243158586, -0.0018628743554617905, -0.019979540092000862, 0.007172491807270984, -0.004926834680024518, -0.015556276646144911, -0.0104252909371933, -0.030949232841677176, 0.005906757849361685, 0.015583497342128732, -0.004814552103058965, -0.03557664871344407, -0.01288190380170153, 0.0024464048706836555, 0.004365420863874185, -0.018183015135261743, -0.00261312790829428, -0.004824759398391614, -0.004651231652446318, 0.01230347705056131, 0.006260618980909515, 0.028036683563988214, 0.010697492309096092, -0.009173167792937195, -0.011309943998893518, 0.009982964872004476, 0.004957457497345031, -0.038135334531278785, -0.004225917590924813, -0.01265053347377447, -0.012555262900476236, -0.00013163461589356834, 0.013453525378845796, -0.011194258834929987, 0.011255503538248446, -0.011167038138946168, 0.029043826963647913, 0.004739696586087312, 0.021599134250135425, 0.023654252093430556, -1.7065714785979995e-05, 0.02689344040969968, 0.0054338089668523465, 0.0034450415700177724, -0.0003687470422103581, 0.005205840760261979, 0.012439577736512705, 0.00834295519188205, 0.003264708650076522, 0.007662453159108925, 0.029805989687388647, -0.039360239773518775, 0.0031201019622914667, -0.011602559961461605, 0.014331373266550058, 0.018741026364414097, -0.004348407928884298, -0.0184552146445194, -0.022647108693770856, -0.006281034037236096, -0.003487572976169923, -0.003688321185268396, -0.004545753783815436, -0.006587259882134809, -0.004341603220549627, -0.013439915030853886, -0.014685233932436604, -0.011493679971494029, 0.02549160623150027, -0.03211969482930439, -0.019190158534921446, 0.007730503036423339, 0.0042973705208984875, 0.0210819540649588, -0.01275260828974609, -0.010309605773229771, -0.011037743558313296, -0.006117713586623448, 0.01641370901186131, -0.04768958275476378, 0.008016314290656756, -0.020074810665299096, 0.015433786308185427, 0.02950656948214717, 0.015760427209410722, -0.0004967664676262359, 0.017257531960908363, 0.011643390074114766, -0.0034977805043332135, -0.012453187153182048, 0.02279681879639159, 0.007927848891354478, -0.022837647977722187, 0.02202104572465895, 0.004283760172906578, -0.006114310999625471, 0.00467845141710757, -0.0016953006711016715, 0.03149363372283762, -0.004892809741367311, 0.015542667229475568, -0.0030571554998127357, -0.020891412918362332, -0.01599179753733778, 0.010622637257785722, -0.006383109318869, -0.015542667229475568, 0.006753982919745434, -0.0265395806751357, 0.0017063588460144562, 0.022905699717681735, -0.003756371295413452, 0.03968688067474407, -0.0009280346489405782, 0.031112553292289822, -0.010275580834572563, 0.014998265416992555, -0.008077558993975215, 0.016835620486384838, -0.023300390496221443, -0.025151354982283068, -0.03320850031691555, -0.0029312625748552728, 0.013208544702926825, -0.00026071734974631404, 0.021844114926054394, -0.007791748671064366, 0.005695802112099921, -0.014930214608355575, 0.018387164767204985, -0.007682868215435506, -0.0020806349174735464, -0.010622637257785722, 0.003494377917335236, -0.0259135177060238, -0.004504923671162274, -0.008417810243192419, 0.0024464048706836555, 0.002495741218001119, 0.0008157518391443833, 0.002504247452665421, 0.004930237267022496, -0.015855697782708955, -0.02937046786487321, -0.005573311774140435, -0.009969355455335133, 0.018632145443123957, -0.004783929285738452, 0.03707374973965145, 0.0016731844376914227, 0.0018339530644709077, 0.00027858052403207235, -0.01249401726583521, 0.0074651073041777875, -0.0034416392158504367, 0.018795465893736603, 0.03397066117801115, -0.010928862637023152, -0.012480407849165867, 0.01456274359447712, -0.017216700916932635, -0.030976453537660997, -0.03075869169508071, 0.029424909256840846, 0.0037325536520888937, 0.0008638122745452657, -0.019162937838937626, 0.0004903867916280096, 6.25742899739125e-05, 0.021313324392885857, -0.02603600897530585, 0.01717587173560204, -0.007363032022544883, -0.019285427245574544, -0.011493679971494029, 0.03652935072113613, 0.007329007083887676, 0.041782825836724664, -0.02909826835561555, -0.017992473988665277, -0.00997615969800852, -0.00993532958535536, -0.02589990735803189, 0.007383447078871464, -0.005716217168426502, 0.01746168345549674, -0.004259942995243303, 0.00154729151273396, 0.004766916816409848, -0.01416805281593741, -0.01654981062913527, -0.019367087470880867, -0.0049336398540204725, 0.027955023338681887, 0.0024191848731917615, -0.007805358553394991, 0.023803962196051295, -0.011847540637380576, -0.010534171858483444, -0.005168413234606795, -0.002698190720598581, -0.02598156758333821, -0.012773023811733954, -0.00032770426786982274, 0.00222694289875759, 0.004093219957632678, 0.0007192055867602107, 0.011309943998893518, 0.015107145406960131, -0.019435139210840415, -0.032146915525288214, -0.010656662196442929, 0.018700197183083505, -0.00549505413583209, 0.005913563023357639, 0.001287850074904227, 0.005529079074489296, 0.014195272580598663, 0.0028342909408886926, 0.011323554346885428, -0.0105409770324794, 0.03339904146351202, -0.01371892157675263, 0.029316028335550703, 0.04243610763917525, 0.00905067745497771, -0.01886351763369615, -0.021966606195336448, 0.01389585144403462, -0.013644065594119695, 0.03808089313931115, -0.015474616420838588, -0.029316028335550703, -0.015501836185499841, -0.012793438402399252, -0.01806052386597969, -0.01920376702026822, 0.013337840214882265, 0.003827823992556485, 0.014467473952501453, 0.005522273900493342, -0.01191559051469499, -0.003593050844800805, -0.008792086431066829, 0.013337840214882265, -0.016468150403828947, 0.012337501989218517, -0.03222857761323967, -0.0022609680702454387, -0.013841411914712116, 0.01761139355811748, -0.012909123566362783, -0.013807386976054908, -0.006042858069651796, -0.0006341428326635702, 0.006539624595485692, -0.03133031327222498, -0.026158498381942768, 0.02383118102938998, 0.016318438438563076, -0.006155141112278633, -0.019162937838937626, -0.0018815881182893826, 0.003576038375472201, -0.004746501760083267, -0.004875797272038708, 0.013235764467588076, 0.007955068656015729, -0.0019309245820221669, -0.014018341781994107, -0.0026029203801309895, 0.0026505554339494647, -0.018278285708559976, -0.02334121967755204, -0.031085334458951137, 0.029914870608678788, 0.018155794439277922, -0.012773023811733954, -0.019788998945404396, 0.0055494941308158775, -0.04292606899101319, -0.008724036553752415, -0.017135040691626312, 0.02621293977391041, 0.01991149021468645, 0.0338073407273985, 0.015474616420838588, 0.020973073143668655, 0.004433470741188599, 0.028444984690519832, 0.00807075381997926, 0.0092276073222597, 0.01580125825338645, -0.026988710982997915, 0.0008234074852668511, 0.018196625483253653, -0.06592703555670289, 0.006025845600323192, 0.02336844037353586, 0.01441303349185638, 0.021626354946119242, 0.02937046786487321, 0.0048791998590366845, -0.001232559316755624, 0.021313324392885857, -0.0015175195749935829, 0.01309966471295925, 0.0009322878244803895, 0.010527366684487489, -0.058033216260618456, 0.011677415012771974, -0.001674035084440917, -0.008063949577305872, -0.019149327490945715, -0.01160936513545756, -0.0026012190866320007, -0.0020925437391358256, -0.0013082651312308078, -0.02244295719918248, -0.007165686633275029, 0.026362649876531145, -0.015216025396927707, 0.01705338046631999, 0.012773023811733954, -0.0011262309177905686, 0.018251065012576156, 0.006396719201199626, -0.003953716684683306, -0.017216700916932635, 0.0009382421771038686, -0.007710087980096758, -0.007356227314210212, 0.016345659134546896, -0.020945852447684835, 0.021381374270200273, -0.009200387557598447, 0.0020142861008274793, -0.004828161985389591, 0.0067403725717535235, -0.007179296515605655, 0.0005801279864315481, -0.014535523829815867, 0.01614150763995852, 0.016359269482538803, -0.02999653083398511, -0.009057482628973665, -0.004406250976527346, 0.0007813014024894478, -0.010996913445660133, -0.026471528935176153, -0.02909826835561555, 0.0010828488648889237, 0.005522273900493342, -0.017516122984819246, -0.007873408430709406, -0.01019392060926624, 0.017366412882198506, -0.023885622421357618, 0.002022792335491781, 0.00032706628280770194, 0.21634520409856337, 0.001997273398668234, 0.0047635142294118705, 0.01767944343543189, -0.0007204815568844523, 0.0023460308825497397, 0.018400775115196895, -0.0014800919329230778, -0.012718583351088884, -0.00033706117838744906, -0.004249735234249371, 0.02413060309727659, -0.01989787986669454, 0.005239865698919186, 0.0019309245820221669, -0.027206470962933067, -0.027233691658916887, -0.033562361914124664, -0.0016246986207081326, 0.015134365171621384, -0.00471247682142606, 0.012119741077960799, -0.007158881459279074, -0.006651907638112529, 0.014957435304339394, -0.024824714081057773, 0.014208882928590572, 0.0010096948742469019, 0.03089479331235467, 0.026743730307078946, -0.028907727209019088, 0.005678789642771317, 0.01850965603648704, 0.003462054272177018, -0.04164672608209583, -0.004559363666146062, 0.015678766984104395, -0.019054056917647482, 0.0077236983280886675, -0.012425967388520797, 0.0034705605068413195, -0.004532143435823526, 0.006539624595485692, -0.031793053928079094, 0.025409946006193947, 0.02621293977391041, -0.010854007585712783, -0.03530444547889615, -0.02618571907792659, -0.004624011422123782, -0.049322787260890254, -0.008996236994332638, -0.0007804508139476139, 0.011629779726122858, -0.016822010138392927, 0.015365736430871012, -0.009268437434912862, 0.014426643839848291, -0.0023409270020527738, -0.012813853924387117, -0.029316028335550703, -0.0036951261264337094, 0.001645964323784208, 0.0066416998771185965, -0.021789675396731892, 0.0333718207675282, -0.013814191218728298, 0.008914576769026315, 0.0163048299532163, -0.013977511669340944, 0.0008110733984374852, -0.028036683563988214, 0.01691728071169116, 0.03456950531378437, -0.011173843312942123, -0.012391942449863589, 0.022374907321868066, 0.01761139355811748, 0.018400775115196895, 0.016740349913086604, -0.013705311228760722, 0.016318438438563076, -0.020074810665299096, -0.014753284741073585, -0.004008157145328378, -0.02383118102938998, 0.036093827035975565, -0.0011696128542768925, 0.0012844476043215704, -0.00406940231430812, 0.004474300853841761, 0.009193582383602492, -0.014521913481823957, -0.020877802570370422, 0.012126546251956754, -0.0019139119962782425, 0.02474305385575145, 0.003603258372964095, -0.0013346345983885283, 0.006556637064814296, -0.01895878634434925, 0.07490966406568876, -0.007927848891354478, -0.02140859496618409, 0.00728137179723856, -0.019707338720098073, -0.01410000200730043, 0.03130309257624116, -0.0033446675818838566, -0.04129286448488672, -0.0012784931934904308, -0.019054056917647482, 0.011650195248110722, -0.019666509538767477, -0.006662114933445178, 0.039877421821340533, -0.009554249154807562, 0.0019309245820221669, -7.985265917130853e-05, -0.011990446497327925, 0.016386490178522624, -0.0306498126364357, -0.007839383492052198, 0.014930214608355575, -0.008438225765180283, -0.01252123796181903, -0.02715203143361056, -0.013814191218728298, -0.03598494797733055, -0.016372879830530714, 0.0184552146445194, 0.008914576769026315, 0.02036062052254866, 0.007771333614737784, -0.015896526964039547, -0.005637959530118156, 0.025600487152790414, 0.013460330552841751, -0.0014299049388561199, 0.030595371244468064, -0.012357917511206382, 0.02681178018439336, -0.03402510256997879, -0.0031201019622914667, 0.007907433369366612, -0.035467765929508795, 0.004991482436002238, -0.010690687135100137, -0.023463710946834093, -0.004549156370813413, 0.0013627053590452374, -0.017135040691626312, -0.0007506788179995765, -0.023790351848059384, 0.00018554313128190357, -0.002199722901265696, -0.015637937802773803, -0.025859078176701293, 0.011963225801344107, 0.020265351811895562, -0.03590328961466936, 0.008036728881322053, 0.021857725274046304, -0.0016706324974429397, -0.0030350391499871657, 0.003912886572030145, -0.17213979219863282, 0.011269113886240356, -0.017230311264924546, -0.0014299049388561199, 0.03827143428590762, 0.013902656618030576, 0.02112278324628939, 0.01767944343543189, 0.003950314563346612, -0.0098740848820369, 0.012670948064439767, 0.003919691746026099, -0.020210910419927924, -0.023885622421357618, -0.001964949753510016, 0.004076207488304075, -0.02614488803395086, -0.003324252525557276, 0.024960815698331733, 0.009343293417545797, 0.03710097043563527, -0.022007435376667044, 0.013392280675527337, -0.03350792052215703, 0.00973117902208955, -0.0031218032557904555, -0.018414385463188805, -0.022334076277892335, -0.031874716016030556, -0.03495058388168703, -0.01795164480733468, -0.0015447396889007978, 0.02898938743432541, 0.02106834371696689, 0.013426305614184543, 0.011248699295575058, 0.008948601707683522, 0.0012750907229077744, -0.006662114933445178, 0.02711120225227997, 0.010942472985015063, 0.019666509538767477, -0.022524617424488802, 0.010500146919826236, 0.004920029971689847, 0.015501836185499841, 0.011799905350731459, -0.027927804505343202, -0.008281709557241024, -0.001779512836656478, 0.0033735888728747393, 0.0043960432155334146, -0.004008157145328378, -0.0060156383049905435, 0.0038516416358810434, -0.0020857387979705123, -0.003295331234566393, -0.008506275642494697, -0.008363369782547347, -0.016454540055837037, 0.003912886572030145, -0.015365736430871012, 0.013610040655462488, -0.025151354982283068, -0.006570247412806205, -0.03745483203284438, -0.0004810298811103833, -0.013147299999608366, -0.017992473988665277, 0.009955745107343225, -0.013712116402756677, -0.002803668356398821, -0.0049506523233490765, -0.005307916041894884, 0.016195949031926157, 0.009826449595387783, -0.021626354946119242, 0.035494986625492615, -0.0015711091560585183, -0.010527366684487489, 0.013916266966022484, 0.0065158069521611345, -0.024579733405138804, 0.004603596365797201, 0.006274228863240141, -0.0166859103837641, 0.001097309510384365, 0.0040659997273101425, 0.01884990728570424, 0.0025995177931330124, 0.01603262858131351, -0.04319826850027085, -0.0014741375220919382, -0.009547443980811606, -0.001051375633649558, -0.0007749217264912215, 0.02157191541679674, 0.006012235717992567, 0.015447396656177335, 0.008996236994332638, -0.008274905314567635, 0.010527366684487489, 0.011514094562159327, 0.019081277613631303, -0.000811498663604572, 0.02369508127476115, -0.015175195284274546, -0.0032885260605704384, 0.024361973425203652, -0.02274237926706909, -0.018890736467034836, 0.021054733368974978, 0.03565830707610526, 0.043225489196254664, -0.007192906863597565, 0.016726739565094694, 0.011752270064082342, -0.020278960297242337, -0.00905067745497771, -0.010602221735797859, 0.05966642076674493, -0.01744807310750483, -0.021218053819587624, 0.02462056444911453, -0.0028138758845621115, -0.014794114853726748, -0.12967647503934454, -0.030323171735210406, -0.005699204699097898, 0.00467845141710757, 0.008172829567273448, 0.025151354982283068, -0.003950314563346612, 0.015488226768830498, -0.011731855473417046, 0.04036738317317848, -0.01913571714295381, -0.04376989194006025, -0.016386490178522624, -0.009520223284827788, 0.005399783562533856, -0.030023749667323796, -0.009812839247395875, -0.01507992564229888, -0.0064001217881976035, 0.034270081383252625, -0.0163048299532163, -0.027927804505343202, 0.015147975519613294, -0.017094211510295717, -0.020836973389039826, 0.0026828793119383246, -0.007397057426863374, 0.013698506054764767, 0.007152076750944402, -0.003841434107717753, 0.002539973917652258, -0.01671313107974792, -0.01185434581137653, -0.011180648486938078, 0.006240203924582933, -0.01307244401697543, -0.01486216473104116, -0.024715835022412765, 0.0389247160883582, -0.005175217942941466, 0.014644403819783443, 0.003479066741505621, 0.0310308930669835, 0.010030600158653593, -0.0035624282603109337, -0.03105811376296732, -0.03309962125827054, 0.014794114853726748, -0.023654252093430556, -0.0048349671593855455, -0.030949232841677176, -0.016563419114482048, -0.009642713622787272, 0.004576376135474665, 0.036964870681006436, -0.004140854778620512, -0.007941459239346386, 0.025328285780887624, -0.006689335163767713, -0.040612361986452315, 0.0005601382534797145, 0.0002475326161674538, -0.02972432946208232, 0.04213668743393378, 0.006913900783360103, 0.011248699295575058, -0.01947596839217101, -0.002989105156837038, 0.000125148579947825, -0.0119292008626869, 0.006175556168605214, 0.006743775158751501, -0.015896526964039547, 0.002063622448144943, -0.0310308930669835, -0.004654633773783012, -0.007648842811117016, -0.01676757060907042, 0.04338880964686732, 0.011745464890086389, -0.0018101354211463494, -0.030377611264532912, 0.0008948601824098842, -0.00802311946465271, 0.019353478985534092, 0.0033531738165481586, 0.01884990728570424, 0.016195949031926157, 0.014957435304339394, -0.01850965603648704, 0.03135753396820879, 0.01759778321012557, 0.003603258372964095, 0.0013295308343068831, -0.011269113886240356, -0.003593050844800805, -0.005787670098400177, -0.012541652552484326, 0.012807048750391162, 0.011881565576037784, -0.03258243921044878, 0.008969017229671385, -0.050221051601904945, 0.0194623580441791, 0.015270465857572779, -0.02988764991269497, 0.01307244401697543, 0.005774059750408267, 0.03375290306072113, -0.0468185391097329, -0.0007966126947343834, -0.004814552103058965, -0.044477615134478475, 0.0166859103837641, -0.012616507603794696, -0.0076080126984638535, -0.030922012145693355, -0.008996236994332638, 0.02871718606242262, -0.009588274093464768, 0.012310282224557266, 0.012766218637738, 0.00873084172774837, -0.00618916605093584, -0.014004732365324764, 0.011207869182921897, 0.008846526891711901, -0.006583857295136832, -0.002255864189748473, 0.023164288878947482, 0.0025314676829879565, -0.006236801337584957, -0.003099686905964886, -0.02621293977391041, 0.007111246172629958, 0.01078595770839837, 0.006968340778343891, 0.01352157525616021, -0.014726064045089766, 0.0224701778951663, 0.04583861640605702, 0.04551197550483173, -0.024361973425203652, -0.027233691658916887, -0.002342628295551762, -0.02078253199707219, 0.011044547800986683, -0.008172829567273448, -0.003698528713431687, 0.013535185604152119, 0.01850965603648704, -0.01744807310750483, 0.02745145350149717, 0.021653575642103063, -0.03908803653897085, -0.0231915095749313, -0.017012551284989394, -0.0002409402493780237, 0.018536874869825724, 0.0015149676347450999, -0.009118727332292124, -0.021027512672991158, 0.04548475853413818, 0.021789675396731892, 0.014889384495702413, -0.02207548711662659, 0.020278960297242337, -0.026008788279322032, -0.03976853903740526, -0.007982289351999548, 0.03252799781848114, -0.025845467828709386, 0.01551544653349175, -0.006107505825629516, -0.0009042171220313408, -0.00017512295598315464, -0.0006732717100254037, -0.019639288842783657, -0.0029908064503360266, 0.006781202684406686, 0.002522961448323655, 0.007873408430709406, 0.004242930060253417, -0.021626354946119242, -0.027356182928198938, 0.01456274359447712, 0.020197300071936014, 0.012616507603794696, 0.012963564027007855, 0.01410000200730043, -0.026988710982997915, 0.01389585144403462, 0.0022082291359299976, 0.003322551232058287, -0.007471912478173743, 0.012643728299778514, -0.0008880551830369107, 0.00728137179723856, -0.014535523829815867, 0.019639288842783657, 0.029424909256840846, 0.005423601205858415, 0.03222857761323967, 0.0023749521735406225, 0.015855697782708955, 0.007369837196540838, -0.008281709557241024, 0.016073457762644107, -0.04845174734114965, -0.02229324709656174, -0.01411361235529234, 0.021857725274046304, 0.00019096588789460918, 0.015270465857572779, -0.0029635864528441327, 0.013671286290103514, -0.01991149021468645, 0.04907780844761642, -0.006291241332568745, -0.026240158607249094, -0.015910137312031458, 0.006066675712976355, 0.010010185567988295, 0.03195637437869175, 0.0032289821850896845, -0.016794791305054242, 0.020197300071936014, 0.024919984654356006, 0.015052704946315061, -0.020061200317307185, -0.0021248676171246855, -0.006070078299974331, 0.03522278711623496, -0.0016212961501254762, 0.007478717652169697, -0.01667230003577219, -0.028798846287728944, -0.02257905881645644, -0.006726762689422898, 0.019720949068089983, 0.0066416998771185965, 0.06799576374798993, 0.020347012037201885, 0.0164000986638694, 0.005620947060789552, -0.009635909380113885, -0.017135040691626312, 0.01207210672263425, 0.017080601162303807, 0.012215011651259032, -0.027056760860312327, 0.018741026364414097, 0.015610717106789983, 0.007294982145230469, -0.03372568236473731, 0.018264675360568066, 0.025614097500782324, -0.01806052386597969, 0.012112936835287412, -0.0184552146445194, -0.007757723266745875, 0.02183050644070762, -0.003132010783953746, 0.016563419114482048, -0.013637261351446307, -0.02129971404489395, -0.009241217670251609, -0.0029074449315307145, -0.012038080852654476, -0.005168413234606795, -0.015964578703999095, 0.00574003481175106, 0.013582820890801236, -0.016332048786554986, -0.007975484178003594, 0.0056311543561222005, -0.011180648486938078, 0.008016314290656756, -0.000438498504062063, 0.0007528053766656518, 0.016971720241013667, 0.00636949897087709, 0.02643069975384556, -0.02036062052254866, -0.027124810737626744, -0.02498803453167042, -0.0009118727681538087, -0.015406566543524174, 0.014549134177807775, -0.030241511509904083]]\n"
     ]
    }
   ],
   "source": [
    "embed_doc = embed.embed_documents([t.page_content for t in text])\n",
    "print(embed_doc)"
   ]
  },
  {
   "cell_type": "code",
   "execution_count": 41,
   "metadata": {},
   "outputs": [],
   "source": [
    "# vector store\n",
    "# load doc -> embed -> vectors -> chroma -> similarity search\n",
    "\n",
    "loader = PyPDFLoader('./bitcoin.pdf')\n",
    "document = loader.load()\n",
    "text_splitter = CharacterTextSplitter.from_tiktoken_encoder(chunk_size=200)\n",
    "docs = text_splitter.split_documents(document)\n",
    "\n",
    "embedding_function = OpenAIEmbeddings()\n",
    "db = Chroma.from_documents(docs, embedding_function, persist_directory='./docs_db')\n",
    "db.persist()"
   ]
  },
  {
   "cell_type": "code",
   "execution_count": 42,
   "metadata": {},
   "outputs": [
    {
     "name": "stdout",
     "output_type": "stream",
     "text": [
      "4.Proof-of-Work\n",
      "To implement a distributed timestamp server on a peer-to-peer basis, we will need to use a proof-\n",
      "of-work system similar to Adam Back's Hashcash [6], rather than newspaper or Usenet posts.  \n",
      "The proof-of-work involves scanning for a value that when hashed, such as with SHA-256, the  \n",
      "hash begins with a number of zero bits.  The average work required is exponential in the number  \n",
      "of zero bits required and can be verified by executing a single hash.\n",
      "For our timestamp network, we implement the proof-of-work by incrementing a nonce in the  \n",
      "block until a value is found that gives the block's hash the required zero bits.  Once the CPU  \n",
      "effort has been expended to make it satisfy the proof-of-work, the block cannot be changed  \n",
      "without redoing the work.  As later blocks are chained after it, the work to change the block  \n",
      "would include redoing all the blocks after it.\n",
      "The proof-of-work also solves the problem of determining representation in majority decision  \n",
      "making.  If the majority were based on one-IP-address-one-vote, it could be subverted by anyone  \n",
      "able  to  allocate  many  IPs.   Proof-of-work  is  essentially  one-CPU-one-vote.   The  majority  \n",
      "decision is represented by the longest chain, which has the greatest proof-of-work effort invested  \n",
      "in it.  If a majority of CPU power is controlled by honest nodes, the honest chain will grow the  \n",
      "fastest and outpace any competing chains.  To modify a past block, an attacker would have to  \n",
      "redo the proof-of-work of the block and all blocks after it and then catch up with and surpass the  \n",
      "work of the honest nodes.  We will show later that the probability of a slower attacker catching up  \n",
      "diminishes exponentially as subsequent blocks are added.\n",
      "To compensate for increasing hardware speed and varying interest in running nodes over time,  \n",
      "the proof-of-work difficulty is determined by a moving average targeting an average number of  \n",
      "blocks per hour.  If they're generated too fast, the difficulty increases.\n",
      "5.Network\n",
      "The steps to run the network are as follows:\n",
      "1)New transactions are broadcast to all nodes.\n",
      "2)Each node collects new transactions into a block.  \n",
      "3)Each node works on finding a difficult proof-of-work for its block.\n",
      "4)When a node finds a proof-of-work, it broadcasts the block to all nodes.\n",
      "5)Nodes accept the block only if all transactions in it are valid and not already spent.\n",
      "6)Nodes express their acceptance of the block by working on creating the next block in the  \n",
      "chain, using the hash of the accepted block as the previous hash.\n",
      "Nodes always consider the longest chain to be the correct one and will keep working on  \n",
      "extending it.  If two nodes broadcast different versions of the next block simultaneously, some  \n",
      "nodes may receive one or the other first.  In that case, they work on the first one they received,  \n",
      "but save the other branch in case it becomes longer.  The tie will be broken when the next proof-\n",
      "of-work is found and one branch becomes longer; the nodes that were working on the other  \n",
      "branch will then switch to the longer one.\n",
      "3Block\n",
      "Prev HashNonce\n",
      "TxTx...Block\n",
      "Prev HashNonce\n",
      "TxTx...\n"
     ]
    }
   ],
   "source": [
    "db_conn = Chroma(persist_directory='./docs_db', embedding_function=embedding_function)\n",
    "search = 'What are the steps to run the network?'\n",
    "similar_docs = db_conn.similarity_search(query=search, k=1)\n",
    "print(similar_docs[0].page_content)"
   ]
  },
  {
   "cell_type": "code",
   "execution_count": 50,
   "metadata": {},
   "outputs": [
    {
     "data": {
      "text/plain": [
       "'\"Note-orious B.I.G. Notebooks\"'"
      ]
     },
     "execution_count": 50,
     "metadata": {},
     "output_type": "execute_result"
    }
   ],
   "source": [
    "# chains\n",
    "human_prompt = HumanMessagePromptTemplate.from_template(\"Create a funny name for a company that makes {product}\")\n",
    "chat_prompt = ChatPromptTemplate.from_messages([human_prompt])\n",
    "chain = LLMChain(llm=chat, prompt=chat_prompt)\n",
    "chain.run(product='notebooks')"
   ]
  },
  {
   "cell_type": "code",
   "execution_count": 51,
   "metadata": {},
   "outputs": [
    {
     "name": "stdout",
     "output_type": "stream",
     "text": [
      "\n",
      "\n",
      "\u001b[1m> Entering new SimpleSequentialChain chain...\u001b[0m\n",
      "\u001b[36;1m\u001b[1;3mI. Introduction\n",
      "    A. Brief overview of the importance of bees in our ecosystem\n",
      "    B. Explanation of why bees are facing threats to their population\n",
      "\n",
      "II. The role of bees in pollination\n",
      "    A. Explanation of how bees are essential for pollinating crops and wild plants\n",
      "    B. Examples of crops that rely on bee pollination\n",
      "    C. Importance of bees in maintaining biodiversity\n",
      "\n",
      "III. Threats to bee populations\n",
      "    A. Pesticides and chemicals\n",
      "    B. Habitat loss\n",
      "    C. Climate change\n",
      "    D. Diseases and parasites\n",
      "\n",
      "IV. Ways to help bees\n",
      "    A. Planting bee-friendly flowers and plants\n",
      "    B. Avoiding the use of pesticides\n",
      "    C. Providing nesting sites for bees\n",
      "    D. Supporting bee conservation efforts\n",
      "\n",
      "V. The benefits of bees\n",
      "    A. Honey production\n",
      "    B. Beeswax and other bee products\n",
      "    C. Role in maintaining a healthy ecosystem\n",
      "\n",
      "VI. Conclusion\n",
      "    A. Recap of the importance of bees\n",
      "    B. Call to action for readers to help protect bees and their habitats.\u001b[0m\n",
      "\u001b[33;1m\u001b[1;3mI. Introduction\n",
      "\n",
      "Bees play a crucial role in our ecosystem as pollinators, helping to ensure the reproduction of many plant species. However, bee populations are facing numerous threats that are putting their survival at risk.\n",
      "\n",
      "II. The role of bees in pollination\n",
      "\n",
      "Bees are essential for pollinating crops and wild plants, as they transfer pollen from one flower to another, allowing plants to produce fruits and seeds. Many crops, such as apples, almonds, and blueberries, rely on bee pollination for their production. Bees also play a key role in maintaining biodiversity by pollinating a wide variety of plant species.\n",
      "\n",
      "III. Threats to bee populations\n",
      "\n",
      "There are several factors contributing to the decline in bee populations, including the use of pesticides and chemicals in agriculture, habitat loss due to urbanization and agriculture, climate change impacting flowering times, and diseases and parasites that affect bee health.\n",
      "\n",
      "IV. Ways to help bees\n",
      "\n",
      "There are several ways individuals can help support bee populations, such as planting bee-friendly flowers and plants that provide food and habitat for bees, avoiding the use of pesticides in gardens and farms, providing nesting sites for bees, and supporting bee conservation efforts through donations or volunteering.\n",
      "\n",
      "V. The benefits of bees\n",
      "\n",
      "In addition to their crucial role in pollination, bees provide us with valuable products such as honey, beeswax, propolis, and royal jelly. These products have various uses in food, medicine, and cosmetics. Furthermore, bees play a vital role in maintaining a healthy ecosystem by supporting plant reproduction and diversity.\n",
      "\n",
      "VI. Conclusion\n",
      "\n",
      "Bees are essential for our food system and the health of our environment, but they are facing numerous threats that are putting their populations at risk. It is important for us to take action to protect bees and their habitats to ensure their continued survival. By planting bee-friendly plants, avoiding pesticides, and supporting bee conservation efforts, we can help protect these important pollinators and maintain a healthy ecosystem for future generations. Join us in taking action to protect bees and preserve their vital role in our world.\u001b[0m\n",
      "\n",
      "\u001b[1m> Finished chain.\u001b[0m\n",
      "I. Introduction\n",
      "\n",
      "Bees play a crucial role in our ecosystem as pollinators, helping to ensure the reproduction of many plant species. However, bee populations are facing numerous threats that are putting their survival at risk.\n",
      "\n",
      "II. The role of bees in pollination\n",
      "\n",
      "Bees are essential for pollinating crops and wild plants, as they transfer pollen from one flower to another, allowing plants to produce fruits and seeds. Many crops, such as apples, almonds, and blueberries, rely on bee pollination for their production. Bees also play a key role in maintaining biodiversity by pollinating a wide variety of plant species.\n",
      "\n",
      "III. Threats to bee populations\n",
      "\n",
      "There are several factors contributing to the decline in bee populations, including the use of pesticides and chemicals in agriculture, habitat loss due to urbanization and agriculture, climate change impacting flowering times, and diseases and parasites that affect bee health.\n",
      "\n",
      "IV. Ways to help bees\n",
      "\n",
      "There are several ways individuals can help support bee populations, such as planting bee-friendly flowers and plants that provide food and habitat for bees, avoiding the use of pesticides in gardens and farms, providing nesting sites for bees, and supporting bee conservation efforts through donations or volunteering.\n",
      "\n",
      "V. The benefits of bees\n",
      "\n",
      "In addition to their crucial role in pollination, bees provide us with valuable products such as honey, beeswax, propolis, and royal jelly. These products have various uses in food, medicine, and cosmetics. Furthermore, bees play a vital role in maintaining a healthy ecosystem by supporting plant reproduction and diversity.\n",
      "\n",
      "VI. Conclusion\n",
      "\n",
      "Bees are essential for our food system and the health of our environment, but they are facing numerous threats that are putting their populations at risk. It is important for us to take action to protect bees and their habitats to ensure their continued survival. By planting bee-friendly plants, avoiding pesticides, and supporting bee conservation efforts, we can help protect these important pollinators and maintain a healthy ecosystem for future generations. Join us in taking action to protect bees and preserve their vital role in our world.\n"
     ]
    }
   ],
   "source": [
    "# topic -> outline -> blog post\n",
    "template_1 = \"Create an outline for a blog post about {topic}\"\n",
    "prompt_1 = ChatPromptTemplate.from_template(template_1)\n",
    "chain_1 = LLMChain(llm=chat, prompt=prompt_1)\n",
    "\n",
    "template_2 = \"Write a blog post using this outline: {outline}\"\n",
    "prompt_2 = ChatPromptTemplate.from_template(template_2)\n",
    "chain_2 = LLMChain(llm=chat, prompt=prompt_2)\n",
    "\n",
    "full_chain = SimpleSequentialChain(chains=[chain_1, chain_2], verbose=True)\n",
    "result = full_chain.run('Bees')\n",
    "print(result)"
   ]
  },
  {
   "cell_type": "code",
   "execution_count": 57,
   "metadata": {},
   "outputs": [
    {
     "name": "stdout",
     "output_type": "stream",
     "text": [
      "Given a raw text input to a language model select the model prompt best suited for the input. You will be given the names of the available prompts and a description of what the prompt is best suited for. You may also revise the original input if you think that revising it will ultimately lead to a better response from the language model.\n",
      "\n",
      "<< FORMATTING >>\n",
      "Return a markdown code snippet with a JSON object formatted to look like:\n",
      "```json\n",
      "{{{{\n",
      "    \"destination\": string \\ name of the prompt to use or \"DEFAULT\"\n",
      "    \"next_inputs\": string \\ a potentially modified version of the original input\n",
      "}}}}\n",
      "```\n",
      "\n",
      "REMEMBER: \"destination\" MUST be one of the candidate prompt names specified below OR it can be \"DEFAULT\" if the input is not well suited for any of the candidate prompts.\n",
      "REMEMBER: \"next_inputs\" can just be the original input if you don't think any modifications are needed.\n",
      "\n",
      "<< CANDIDATE PROMPTS >>\n",
      "{destinations}\n",
      "\n",
      "<< INPUT >>\n",
      "{{input}}\n",
      "\n",
      "<< OUTPUT (must include ```json at the start of the response) >>\n",
      "\n"
     ]
    }
   ],
   "source": [
    "# router chain\n",
    "prompt_infos = [\n",
    "    {\n",
    "        'name': 'begginer physics', \n",
    "        'description': 'Answer basic physics questions', \n",
    "        'template': 'You are a physics teacher who is focused on begginers and explaining complex concepts in simple to understand terms. You assume no prior knowledge. Here is the question:\\n{input}'},\n",
    "    {\n",
    "        'name': 'advanced physics', \n",
    "        'description': 'Answer complex physics questions', \n",
    "        'template': 'You are a physics teacher who explains physics to advance audiences. You can assume anyone has a PhD in physics. Here is the question:\\n{input}'\n",
    "    }\n",
    "]\n",
    "destination_chains = {}\n",
    "for info in prompt_infos:\n",
    "    name = info['name']\n",
    "    template = info['template']\n",
    "    prompt = ChatPromptTemplate.from_template(template=template)\n",
    "    chain = LLMChain(llm=chat, prompt=prompt)\n",
    "    destination_chains[name] = chain\n",
    "\n",
    "default_prompt = ChatPromptTemplate.from_template('{input}')\n",
    "default_chain = LLMChain(llm=chat, prompt=default_prompt)\n",
    "print(MULTI_PROMPT_ROUTER_TEMPLATE)"
   ]
  },
  {
   "cell_type": "code",
   "execution_count": 59,
   "metadata": {},
   "outputs": [
    {
     "name": "stdout",
     "output_type": "stream",
     "text": [
      "Given a raw text input to a language model select the model prompt best suited for the input. You will be given the names of the available prompts and a description of what the prompt is best suited for. You may also revise the original input if you think that revising it will ultimately lead to a better response from the language model.\n",
      "\n",
      "<< FORMATTING >>\n",
      "Return a markdown code snippet with a JSON object formatted to look like:\n",
      "```json\n",
      "{{\n",
      "    \"destination\": string \\ name of the prompt to use or \"DEFAULT\"\n",
      "    \"next_inputs\": string \\ a potentially modified version of the original input\n",
      "}}\n",
      "```\n",
      "\n",
      "REMEMBER: \"destination\" MUST be one of the candidate prompt names specified below OR it can be \"DEFAULT\" if the input is not well suited for any of the candidate prompts.\n",
      "REMEMBER: \"next_inputs\" can just be the original input if you don't think any modifications are needed.\n",
      "\n",
      "<< CANDIDATE PROMPTS >>\n",
      "begginer physics: Answer basic physics questions\n",
      "advanced physics: Answer complex physics questions\n",
      "\n",
      "<< INPUT >>\n",
      "{input}\n",
      "\n",
      "<< OUTPUT (must include ```json at the start of the response) >>\n",
      "\n"
     ]
    }
   ],
   "source": [
    "# format MULTI_PROMPT_ROUTER_TEMPLATE -> {destinations}\n",
    "destinations = [f\"{info['name']}: {info['description']}\" for info in prompt_infos]\n",
    "destinations = '\\n'.join(destinations)\n",
    "router_template = MULTI_PROMPT_ROUTER_TEMPLATE.format(destinations=destinations)\n",
    "print(router_template)"
   ]
  },
  {
   "cell_type": "code",
   "execution_count": 62,
   "metadata": {},
   "outputs": [],
   "source": [
    "router_prompt = PromptTemplate(template=router_template, input_variables=['input'], output_parser=RouterOutputParser())\n",
    "router_chain = LLMRouterChain.from_llm(chat, router_prompt)\n",
    "chain = MultiPromptChain(router_chain=router_chain, destination_chains=destination_chains, default_chain=default_chain, verbose=True)"
   ]
  },
  {
   "cell_type": "code",
   "execution_count": 64,
   "metadata": {},
   "outputs": [
    {
     "name": "stdout",
     "output_type": "stream",
     "text": [
      "\n",
      "\n",
      "\u001b[1m> Entering new MultiPromptChain chain...\u001b[0m\n"
     ]
    },
    {
     "name": "stderr",
     "output_type": "stream",
     "text": [
      "/Library/Frameworks/Python.framework/Versions/3.9/lib/python3.9/site-packages/langchain/chains/llm.py:278: UserWarning: The predict_and_parse method is deprecated, instead pass an output parser directly to LLMChain.\n",
      "  def predict(self, callbacks: Callbacks = None, **kwargs: Any) -> str:\n"
     ]
    },
    {
     "name": "stdout",
     "output_type": "stream",
     "text": [
      "begginer physics: {'input': 'What are magnets?'}\n",
      "\u001b[1m> Finished chain.\u001b[0m\n"
     ]
    },
    {
     "data": {
      "text/plain": [
       "'Magnets are objects that have the ability to attract or repel other objects made of certain materials, such as iron or steel. This ability is due to the magnetic field that surrounds the magnet. \\n\\nInside a magnet, there are tiny particles called magnetic domains that are all aligned in the same direction. This alignment creates a magnetic field around the magnet, which is what allows it to attract or repel other objects.\\n\\nThere are two main types of magnets: permanent magnets and electromagnets. Permanent magnets are made of materials like iron, nickel, or cobalt, and they retain their magnetic properties even when not in the presence of an external magnetic field. Electromagnets, on the other hand, are temporary magnets that only exhibit magnetic properties when an electric current is passed through them.\\n\\nMagnets have many practical applications, such as in electric motors, speakers, and MRI machines. They are also used in everyday items like refrigerator magnets and compasses.'"
      ]
     },
     "execution_count": 64,
     "metadata": {},
     "output_type": "execute_result"
    }
   ],
   "source": [
    "chain.run('What are magnets?')"
   ]
  },
  {
   "cell_type": "code",
   "execution_count": 65,
   "metadata": {},
   "outputs": [
    {
     "name": "stdout",
     "output_type": "stream",
     "text": [
      "\n",
      "\n",
      "\u001b[1m> Entering new MultiPromptChain chain...\u001b[0m\n",
      "advanced physics: {'input': 'Explain Feynman Diagrams in the context of quantum field theory'}\n",
      "\u001b[1m> Finished chain.\u001b[0m\n"
     ]
    },
    {
     "data": {
      "text/plain": [
       "'Feynman diagrams are a powerful tool in quantum field theory that allow us to visualize and calculate the interactions between particles. They were developed by Richard Feynman in the 1940s and have become an essential part of particle physics research.\\n\\nIn a Feynman diagram, particles are represented by lines, with different types of lines corresponding to different types of particles (for example, electrons, photons, or quarks). The interactions between particles are represented by vertices, where the lines meet.\\n\\nThe key idea behind Feynman diagrams is that they provide a way to calculate the probability amplitude for a given particle interaction. By considering all possible ways that particles can interact and summing up the contributions from each Feynman diagram, we can calculate the overall probability of a particular outcome.\\n\\nOne of the key insights of Feynman diagrams is that they allow us to visualize particle interactions in terms of virtual particles. These virtual particles are not directly observable, but they play a crucial role in mediating interactions between real particles. By including virtual particles in our calculations, we can account for the quantum fluctuations that occur at the microscopic level.\\n\\nOverall, Feynman diagrams provide a powerful and intuitive way to understand the complex interactions that occur in quantum field theory. They have been instrumental in advancing our understanding of particle physics and have played a key role in the development of the Standard Model of particle physics.'"
      ]
     },
     "execution_count": 65,
     "metadata": {},
     "output_type": "execute_result"
    }
   ],
   "source": [
    "chain.run('Explain Feynman Diagrams')"
   ]
  },
  {
   "cell_type": "code",
   "execution_count": 73,
   "metadata": {},
   "outputs": [
    {
     "name": "stdout",
     "output_type": "stream",
     "text": [
      "load_qa_chain\n",
      " Bitcoin is a digital currency system that allows online payments to be sent directly from one party to another without the need for a financial institution. It was introduced in a whitepaper titled \"Bitcoin: A Peer-to-Peer Electronic Cash System\" by an individual or group using the pseudonym Satoshi Nakamoto. Bitcoin operates on a decentralized peer-to-peer network, using cryptographic proof to secure transactions and prevent double-spending. It is based on a blockchain technology that records all transactions in a public ledger.\n",
      "load_qa_with_sources_chain\n",
      " Bitcoin is a peer-to-peer electronic cash system that allows online payments to be sent directly from one party to another without the need for a financial institution. It uses digital signatures and a peer-to-peer network to prevent double-spending. Transactions are timestamped and recorded in a chain of hash-based proof-of-work. The system is secure as long as honest nodes control more CPU power than any cooperating group of attacker nodes.\n",
      "SOURCES: ./bitcoin.pdf\n"
     ]
    }
   ],
   "source": [
    "# QA docs\n",
    "embed = OpenAIEmbeddings()\n",
    "embedding_function = OpenAIEmbeddings()\n",
    "db_conn = Chroma(persist_directory='./docs_db', embedding_function=embedding_function)\n",
    "chat = ChatOpenAI(temperature=0)\n",
    "\n",
    "# load_qa_chain\n",
    "chain = load_qa_chain(chat, chain_type='stuff')\n",
    "question = 'What is bitcoin?'\n",
    "docs = db_conn.similarity_search(question)\n",
    "result = chain.run(input_documents=docs, question=question)\n",
    "print('load_qa_chain\\n', result)\n",
    "\n",
    "# load_qa_with_sources_chain\n",
    "chain = load_qa_with_sources_chain(chat, chain_type='stuff')\n",
    "question = 'What is bitcoin?'\n",
    "docs = db_conn.similarity_search(question)\n",
    "result = chain.run(input_documents=docs, question=question)\n",
    "print('load_qa_with_sources_chain\\n', result)"
   ]
  }
 ],
 "metadata": {
  "kernelspec": {
   "display_name": "Python 3",
   "language": "python",
   "name": "python3"
  },
  "language_info": {
   "codemirror_mode": {
    "name": "ipython",
    "version": 3
   },
   "file_extension": ".py",
   "mimetype": "text/x-python",
   "name": "python",
   "nbconvert_exporter": "python",
   "pygments_lexer": "ipython3",
   "version": "3.9.11"
  }
 },
 "nbformat": 4,
 "nbformat_minor": 2
}
